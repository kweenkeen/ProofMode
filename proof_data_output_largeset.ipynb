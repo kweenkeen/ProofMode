{
  "nbformat": 4,
  "nbformat_minor": 0,
  "metadata": {
    "colab": {
      "name": "proof_data_output_largeset.ipynb",
      "provenance": [],
      "collapsed_sections": [],
      "include_colab_link": true
    },
    "kernelspec": {
      "name": "python3",
      "display_name": "Python 3"
    },
    "language_info": {
      "name": "python"
    }
  },
  "cells": [
    {
      "cell_type": "markdown",
      "metadata": {
        "id": "view-in-github",
        "colab_type": "text"
      },
      "source": [
        "<a href=\"https://colab.research.google.com/github/kweenkeen/ProofMode/blob/main/proof_data_output_largeset.ipynb\" target=\"_parent\"><img src=\"https://colab.research.google.com/assets/colab-badge.svg\" alt=\"Open In Colab\"/></a>"
      ]
    },
    {
      "cell_type": "code",
      "source": [
        "!pip install PyPDF2"
      ],
      "metadata": {
        "colab": {
          "base_uri": "https://localhost:8080/"
        },
        "id": "yCjYS_GLIbsV",
        "outputId": "a186c8bc-6638-4103-aa15-79b19233259f"
      },
      "execution_count": 1,
      "outputs": [
        {
          "output_type": "stream",
          "name": "stdout",
          "text": [
            "Collecting PyPDF2\n",
            "  Downloading PyPDF2-1.26.0.tar.gz (77 kB)\n",
            "\u001b[?25l\r\u001b[K     |████▎                           | 10 kB 24.5 MB/s eta 0:00:01\r\u001b[K     |████████▌                       | 20 kB 8.9 MB/s eta 0:00:01\r\u001b[K     |████████████▊                   | 30 kB 7.5 MB/s eta 0:00:01\r\u001b[K     |█████████████████               | 40 kB 5.8 MB/s eta 0:00:01\r\u001b[K     |█████████████████████▏          | 51 kB 4.4 MB/s eta 0:00:01\r\u001b[K     |█████████████████████████▍      | 61 kB 4.5 MB/s eta 0:00:01\r\u001b[K     |█████████████████████████████▋  | 71 kB 4.7 MB/s eta 0:00:01\r\u001b[K     |████████████████████████████████| 77 kB 2.3 MB/s \n",
            "\u001b[?25hBuilding wheels for collected packages: PyPDF2\n",
            "  Building wheel for PyPDF2 (setup.py) ... \u001b[?25l\u001b[?25hdone\n",
            "  Created wheel for PyPDF2: filename=PyPDF2-1.26.0-py3-none-any.whl size=61102 sha256=08d21237046e1a07909cef302b196861c86c791455305f1c90b901d06f4a32a9\n",
            "  Stored in directory: /root/.cache/pip/wheels/80/1a/24/648467ade3a77ed20f35cfd2badd32134e96dd25ca811e64b3\n",
            "Successfully built PyPDF2\n",
            "Installing collected packages: PyPDF2\n",
            "Successfully installed PyPDF2-1.26.0\n"
          ]
        }
      ]
    },
    {
      "cell_type": "code",
      "execution_count": 2,
      "metadata": {
        "colab": {
          "resources": {
            "http://localhost:8080/nbextensions/google.colab/files.js": {
              "data": "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",
              "ok": true,
              "headers": [
                [
                  "content-type",
                  "application/javascript"
                ]
              ],
              "status": 200,
              "status_text": "OK"
            }
          },
          "base_uri": "https://localhost:8080/",
          "height": 112
        },
        "id": "VR8aICKKHzJP",
        "outputId": "b850520f-b3a3-4348-eac3-a8e6c54159e4"
      },
      "outputs": [
        {
          "output_type": "display_data",
          "data": {
            "text/html": [
              "\n",
              "     <input type=\"file\" id=\"files-b00a7378-6336-426f-8fad-9a69dc94a935\" name=\"files[]\" multiple disabled\n",
              "        style=\"border:none\" />\n",
              "     <output id=\"result-b00a7378-6336-426f-8fad-9a69dc94a935\">\n",
              "      Upload widget is only available when the cell has been executed in the\n",
              "      current browser session. Please rerun this cell to enable.\n",
              "      </output>\n",
              "      <script src=\"/nbextensions/google.colab/files.js\"></script> "
            ],
            "text/plain": [
              "<IPython.core.display.HTML object>"
            ]
          },
          "metadata": {}
        },
        {
          "output_type": "stream",
          "name": "stdout",
          "text": [
            "Saving ProofMode_Collection_2022-01-21_Fabby_UPDATE2.csv to ProofMode_Collection_2022-01-21_Fabby_UPDATE2.csv\n"
          ]
        },
        {
          "output_type": "execute_result",
          "data": {
            "text/plain": [
              "{'ProofMode_Collection_2022-01-21_Fabby_UPDATE2.csv': b'File Hash SHA256,Locale,SafetyCheckCtsMatch,Location.Provider,IPv6,IPv4,Location.Accuracy,Location.Latitude,Language,NetworkType,Network,Manufacturer,DataType,Hardware,ScreenSize,Wifi MAC,Notes,DeviceID,Location.Longitude,Location.Bearing,SafetyCheckBasicIntegrity,Location.Time,File Modified,CellInfo,SafetyCheck,Location.Altitude,SafetyCheckTimestamp,Proof Generated,File Path,Location.Speed,\\r\\n05b9bc0f989933445882ad289627b111b0fb26374ad738cfdb71fa84313b3417,USA,,gps,FE80::6609:ACFF:FE37:7CE9 2600:8803:B806:9600:6609:ACFF:FE37:7CE9 2600:8803:B806:9600:A1AF:FF1A:132E:50B4 ,192.168.0.15 ,13.2,35.59878333333334,English,Wifi,Connected,TCL,Mobile Data,TCL Alcatel_5002C,6.3419364253586625,64:9:ac:37:7c:e9,,35ow5ifrnuvmzguko87wvkeg8,-97.54787999999999,0.0,,1642421712000,Monday  January 17  2022 5:28:17 AM Central Standard Time,\"[{\"\"cellId\"\":47131417 \"\"tac\"\":47105 \"\"dbm\"\":-94}]\",,-154.4,,Monday  January 17  2022 10:35:33 PM Central Standard Time,/storage/emulated/0/DCIM/Camera/IMG_20220117_052815.jpg,0.0,\\r\\n09b6ee0113d9278fc42c6ffb07242d7c3060e73c184f14b651a2fa723fad584d,USA,,,FE80::E0A5:8CFF:FE2D:4596 2600:8803:B806:9600:E0A5:8CFF:FE2D:4596 2600:8803:B806:9600:B0EC:752E:8017:E790 ,192.168.0.155 ,,,English,Wifi,Connected,samsung,Mobile Data,Samsung SM-A215U,6.009401584988972,e2:a5:8c:2d:45:96,,4r83r0sk1f1x8akc1mrszso0n,,,,,Monday  January 17  2022 5:26:17 AM Central Standard Time,[],,,,Monday  January 17  2022 10:24:25 PM Central Standard Time,/storage/emulated/0/DCIM/Camera/20220117_052617.jpg,,\\r\\n27f994b59c6a4f62b90132e7d86820d9e364cc9d4dea8c1c265d9f645f05fcec,USA,,,FE80::2962:F026:7B9:7F60 2607:FB90:96B8:E43:C11:A6BA:48C7:F66C FE80::F0B8:F8FF:FE18:2538 FE80::5AD5:AFF:FE3B:C070 FE80::75A5:91E8:F915:5D00 2607:FC20:96AE:4FFF:0:1:80B8:1901 ,192.0.0.2 ,,,English,Mobile Data LTE,Connected,samsung,Mobile Data LTE,Samsung SM-G981U1,5.728757679530637,,,3hsk2wook5uvehesdc1xo85j0,,,,,Monday  January 17  2022 5:24:53 AM Central Standard Time,\"[{\"\"cellId\"\":28237569 \"\"tac\"\":44289 \"\"dbm\"\":-104} {\"\"cellId\"\":2147483647 \"\"tac\"\":2147483647 \"\"dbm\"\":-111} {\"\"cellId\"\":2147483647 \"\"tac\"\":2147483647 \"\"dbm\"\":-114}]\",,,,Monday  January 17  2022 10:44:28 PM Central Standard Time,/storage/emulated/0/DCIM/Camera/20220117_052452.jpg,,\\r\\n5855009e5046a14d5b48f9f48273fdf4c98dfd150848dc6ee09995f510104a5a,USA,,gps,FE80::CFF:11FF:FE8F:CFF2 FE80::D453:83FF:FEEF:18F5 ,,8.576,35.56640692,English,noNetwork,0,samsung,Mobile Data,Samsung SM-G950U,5.524964462787383,d4:53:83:ef:18:f5,,4dq4eszdb98ukzd78rlx2rr7,-97.57772956,1.2,,1642418867798,Monday  January 17  2022 5:27:55 AM Central Standard Time,[],,352.27880859375,,Monday  January 17  2022 5:28:05 AM Central Standard Time,/storage/emulated/0/DCIM/Camera/20220117_052755.jpg,2.04,\\r\\n6955b01d03314aef4d5d3a93567cc108ef792b17b79b71ad936f48a9c1b81420,USA,,gps,FE80::C9BC:46E7:526:CC98 2600:8803:B806:9600:D711:EC32:D018:D286 2600:8803:B806:9600:54E6:47F8:6926:7683 ,192.168.0.80 ,6.5,35.599215,espa\\xc3\\xb1ol,Wifi,Connected,LGE,Mobile Data,LGE LM-Q730,6.4723960442002095,30:fc:eb:97:b8:fa,,4gf222mtlsf8d0xjxf26hh5sz,-97.5511,148.22,,1642421535000,lunes  17 de enero de 2022 5:25:27 a. m. hora est\\xc3\\xa1ndar central,\"[{\"\"cellId\"\":47131414 \"\"tac\"\":47105 \"\"dbm\"\":-98}]\",,370.9,,lunes  17 de enero de 2022 10:21:38 p. m. hora est\\xc3\\xa1ndar central,/storage/emulated/0/DCIM/Camera/20220117_052527.jpg,0.21515389,\\r\\nb097a81b0e5ba257b0bfeca40003c688b95ece189cb6036e6bd7f4d5b4ffce46,ESP,,gps,FE80::AD4E:6FEE:4C8B:D628 2600:8803:B806:9600:DDC3:564D:F537:9A41 2600:8803:B806:9600:4552:39F1:7F58:5EE5 ,192.168.0.243 ,17.1,35.599235,espa\\xc3\\xb1ol,Wifi,Connected,Xiaomi,Mobile Data,Xiaomi M2006C3LG,6.012728224009528,70:5f:a3:31:8e:36,,3jf4vm9udkl9dbxg3r9g9ot55,-97.550185,0.0,,1642480590000,lunes  17 de enero de 2022 23:35:34 (hora est\\xc3\\xa1ndar oriental),[],,367.1,,lunes  17 de enero de 2022 23:35:37 (hora est\\xc3\\xa1ndar oriental),/storage/emulated/0/MIUI/Gallery/cloud/.cache/.share/.securityshare_temp_files/1642480534559.jpg,0.0,\\r\\n'}"
            ]
          },
          "metadata": {},
          "execution_count": 2
        }
      ],
      "source": [
        "from google.colab import files\n",
        "\n",
        "files.upload()"
      ]
    },
    {
      "cell_type": "code",
      "source": [
        "from datetime import date\n",
        "import pandas as pd\n",
        "import matplotlib.pyplot as plt\n",
        "from matplotlib.backends.backend_pdf import PdfPages\n",
        "\n",
        "filename = input(\"Please enter the name of your file: \")\n",
        "\n",
        "df = pd.read_csv(filename)"
      ],
      "metadata": {
        "colab": {
          "base_uri": "https://localhost:8080/"
        },
        "id": "mrTz8aJwH65V",
        "outputId": "5c4e1688-564f-4cba-9409-ee0bb2331e5a"
      },
      "execution_count": 4,
      "outputs": [
        {
          "name": "stdout",
          "output_type": "stream",
          "text": [
            "Please enter the name of your file: ProofMode_Collection_2022-01-21_Fabby_UPDATE2.csv\n"
          ]
        }
      ]
    },
    {
      "cell_type": "code",
      "source": [
        "df.head()"
      ],
      "metadata": {
        "id": "rTGr6MMrHfrC",
        "outputId": "09de4095-42c2-458f-a0ef-a0220302108d",
        "colab": {
          "base_uri": "https://localhost:8080/",
          "height": 774
        }
      },
      "execution_count": 5,
      "outputs": [
        {
          "output_type": "execute_result",
          "data": {
            "text/html": [
              "\n",
              "  <div id=\"df-295e4813-18f8-4c84-9fb0-4acf195a496c\">\n",
              "    <div class=\"colab-df-container\">\n",
              "      <div>\n",
              "<style scoped>\n",
              "    .dataframe tbody tr th:only-of-type {\n",
              "        vertical-align: middle;\n",
              "    }\n",
              "\n",
              "    .dataframe tbody tr th {\n",
              "        vertical-align: top;\n",
              "    }\n",
              "\n",
              "    .dataframe thead th {\n",
              "        text-align: right;\n",
              "    }\n",
              "</style>\n",
              "<table border=\"1\" class=\"dataframe\">\n",
              "  <thead>\n",
              "    <tr style=\"text-align: right;\">\n",
              "      <th></th>\n",
              "      <th>File Hash SHA256</th>\n",
              "      <th>Locale</th>\n",
              "      <th>SafetyCheckCtsMatch</th>\n",
              "      <th>Location.Provider</th>\n",
              "      <th>IPv6</th>\n",
              "      <th>IPv4</th>\n",
              "      <th>Location.Accuracy</th>\n",
              "      <th>Location.Latitude</th>\n",
              "      <th>Language</th>\n",
              "      <th>NetworkType</th>\n",
              "      <th>Network</th>\n",
              "      <th>Manufacturer</th>\n",
              "      <th>DataType</th>\n",
              "      <th>Hardware</th>\n",
              "      <th>ScreenSize</th>\n",
              "      <th>Wifi MAC</th>\n",
              "      <th>Notes</th>\n",
              "      <th>DeviceID</th>\n",
              "      <th>Location.Longitude</th>\n",
              "      <th>Location.Bearing</th>\n",
              "      <th>SafetyCheckBasicIntegrity</th>\n",
              "      <th>Location.Time</th>\n",
              "      <th>File Modified</th>\n",
              "      <th>CellInfo</th>\n",
              "      <th>SafetyCheck</th>\n",
              "      <th>Location.Altitude</th>\n",
              "      <th>SafetyCheckTimestamp</th>\n",
              "      <th>Proof Generated</th>\n",
              "      <th>File Path</th>\n",
              "      <th>Location.Speed</th>\n",
              "      <th>Unnamed: 30</th>\n",
              "    </tr>\n",
              "  </thead>\n",
              "  <tbody>\n",
              "    <tr>\n",
              "      <th>0</th>\n",
              "      <td>05b9bc0f989933445882ad289627b111b0fb26374ad738...</td>\n",
              "      <td>USA</td>\n",
              "      <td>NaN</td>\n",
              "      <td>gps</td>\n",
              "      <td>FE80::6609:ACFF:FE37:7CE9 2600:8803:B806:9600:...</td>\n",
              "      <td>192.168.0.15</td>\n",
              "      <td>13.200</td>\n",
              "      <td>35.598783</td>\n",
              "      <td>English</td>\n",
              "      <td>Wifi</td>\n",
              "      <td>Connected</td>\n",
              "      <td>TCL</td>\n",
              "      <td>Mobile Data</td>\n",
              "      <td>TCL Alcatel_5002C</td>\n",
              "      <td>6.341936</td>\n",
              "      <td>64:9:ac:37:7c:e9</td>\n",
              "      <td>NaN</td>\n",
              "      <td>35ow5ifrnuvmzguko87wvkeg8</td>\n",
              "      <td>-97.54788</td>\n",
              "      <td>0.00</td>\n",
              "      <td>NaN</td>\n",
              "      <td>1.642422e+12</td>\n",
              "      <td>Monday  January 17  2022 5:28:17 AM Central St...</td>\n",
              "      <td>[{\"cellId\":47131417 \"tac\":47105 \"dbm\":-94}]</td>\n",
              "      <td>NaN</td>\n",
              "      <td>-154.400000</td>\n",
              "      <td>NaN</td>\n",
              "      <td>Monday  January 17  2022 10:35:33 PM Central S...</td>\n",
              "      <td>/storage/emulated/0/DCIM/Camera/IMG_20220117_0...</td>\n",
              "      <td>0.000000</td>\n",
              "      <td>NaN</td>\n",
              "    </tr>\n",
              "    <tr>\n",
              "      <th>1</th>\n",
              "      <td>09b6ee0113d9278fc42c6ffb07242d7c3060e73c184f14...</td>\n",
              "      <td>USA</td>\n",
              "      <td>NaN</td>\n",
              "      <td>NaN</td>\n",
              "      <td>FE80::E0A5:8CFF:FE2D:4596 2600:8803:B806:9600:...</td>\n",
              "      <td>192.168.0.155</td>\n",
              "      <td>NaN</td>\n",
              "      <td>NaN</td>\n",
              "      <td>English</td>\n",
              "      <td>Wifi</td>\n",
              "      <td>Connected</td>\n",
              "      <td>samsung</td>\n",
              "      <td>Mobile Data</td>\n",
              "      <td>Samsung SM-A215U</td>\n",
              "      <td>6.009402</td>\n",
              "      <td>e2:a5:8c:2d:45:96</td>\n",
              "      <td>NaN</td>\n",
              "      <td>4r83r0sk1f1x8akc1mrszso0n</td>\n",
              "      <td>NaN</td>\n",
              "      <td>NaN</td>\n",
              "      <td>NaN</td>\n",
              "      <td>NaN</td>\n",
              "      <td>Monday  January 17  2022 5:26:17 AM Central St...</td>\n",
              "      <td>[]</td>\n",
              "      <td>NaN</td>\n",
              "      <td>NaN</td>\n",
              "      <td>NaN</td>\n",
              "      <td>Monday  January 17  2022 10:24:25 PM Central S...</td>\n",
              "      <td>/storage/emulated/0/DCIM/Camera/20220117_05261...</td>\n",
              "      <td>NaN</td>\n",
              "      <td>NaN</td>\n",
              "    </tr>\n",
              "    <tr>\n",
              "      <th>2</th>\n",
              "      <td>27f994b59c6a4f62b90132e7d86820d9e364cc9d4dea8c...</td>\n",
              "      <td>USA</td>\n",
              "      <td>NaN</td>\n",
              "      <td>NaN</td>\n",
              "      <td>FE80::2962:F026:7B9:7F60 2607:FB90:96B8:E43:C1...</td>\n",
              "      <td>192.0.0.2</td>\n",
              "      <td>NaN</td>\n",
              "      <td>NaN</td>\n",
              "      <td>English</td>\n",
              "      <td>Mobile Data LTE</td>\n",
              "      <td>Connected</td>\n",
              "      <td>samsung</td>\n",
              "      <td>Mobile Data LTE</td>\n",
              "      <td>Samsung SM-G981U1</td>\n",
              "      <td>5.728758</td>\n",
              "      <td>NaN</td>\n",
              "      <td>NaN</td>\n",
              "      <td>3hsk2wook5uvehesdc1xo85j0</td>\n",
              "      <td>NaN</td>\n",
              "      <td>NaN</td>\n",
              "      <td>NaN</td>\n",
              "      <td>NaN</td>\n",
              "      <td>Monday  January 17  2022 5:24:53 AM Central St...</td>\n",
              "      <td>[{\"cellId\":28237569 \"tac\":44289 \"dbm\":-104} {\"...</td>\n",
              "      <td>NaN</td>\n",
              "      <td>NaN</td>\n",
              "      <td>NaN</td>\n",
              "      <td>Monday  January 17  2022 10:44:28 PM Central S...</td>\n",
              "      <td>/storage/emulated/0/DCIM/Camera/20220117_05245...</td>\n",
              "      <td>NaN</td>\n",
              "      <td>NaN</td>\n",
              "    </tr>\n",
              "    <tr>\n",
              "      <th>3</th>\n",
              "      <td>5855009e5046a14d5b48f9f48273fdf4c98dfd150848dc...</td>\n",
              "      <td>USA</td>\n",
              "      <td>NaN</td>\n",
              "      <td>gps</td>\n",
              "      <td>FE80::CFF:11FF:FE8F:CFF2 FE80::D453:83FF:FEEF:...</td>\n",
              "      <td>NaN</td>\n",
              "      <td>8.576</td>\n",
              "      <td>35.566407</td>\n",
              "      <td>English</td>\n",
              "      <td>noNetwork</td>\n",
              "      <td>0</td>\n",
              "      <td>samsung</td>\n",
              "      <td>Mobile Data</td>\n",
              "      <td>Samsung SM-G950U</td>\n",
              "      <td>5.524964</td>\n",
              "      <td>d4:53:83:ef:18:f5</td>\n",
              "      <td>NaN</td>\n",
              "      <td>4dq4eszdb98ukzd78rlx2rr7</td>\n",
              "      <td>-97.57773</td>\n",
              "      <td>1.20</td>\n",
              "      <td>NaN</td>\n",
              "      <td>1.642419e+12</td>\n",
              "      <td>Monday  January 17  2022 5:27:55 AM Central St...</td>\n",
              "      <td>[]</td>\n",
              "      <td>NaN</td>\n",
              "      <td>352.278809</td>\n",
              "      <td>NaN</td>\n",
              "      <td>Monday  January 17  2022 5:28:05 AM Central St...</td>\n",
              "      <td>/storage/emulated/0/DCIM/Camera/20220117_05275...</td>\n",
              "      <td>2.040000</td>\n",
              "      <td>NaN</td>\n",
              "    </tr>\n",
              "    <tr>\n",
              "      <th>4</th>\n",
              "      <td>6955b01d03314aef4d5d3a93567cc108ef792b17b79b71...</td>\n",
              "      <td>USA</td>\n",
              "      <td>NaN</td>\n",
              "      <td>gps</td>\n",
              "      <td>FE80::C9BC:46E7:526:CC98 2600:8803:B806:9600:D...</td>\n",
              "      <td>192.168.0.80</td>\n",
              "      <td>6.500</td>\n",
              "      <td>35.599215</td>\n",
              "      <td>español</td>\n",
              "      <td>Wifi</td>\n",
              "      <td>Connected</td>\n",
              "      <td>LGE</td>\n",
              "      <td>Mobile Data</td>\n",
              "      <td>LGE LM-Q730</td>\n",
              "      <td>6.472396</td>\n",
              "      <td>30:fc:eb:97:b8:fa</td>\n",
              "      <td>NaN</td>\n",
              "      <td>4gf222mtlsf8d0xjxf26hh5sz</td>\n",
              "      <td>-97.55110</td>\n",
              "      <td>148.22</td>\n",
              "      <td>NaN</td>\n",
              "      <td>1.642422e+12</td>\n",
              "      <td>lunes  17 de enero de 2022 5:25:27 a. m. hora ...</td>\n",
              "      <td>[{\"cellId\":47131414 \"tac\":47105 \"dbm\":-98}]</td>\n",
              "      <td>NaN</td>\n",
              "      <td>370.900000</td>\n",
              "      <td>NaN</td>\n",
              "      <td>lunes  17 de enero de 2022 10:21:38 p. m. hora...</td>\n",
              "      <td>/storage/emulated/0/DCIM/Camera/20220117_05252...</td>\n",
              "      <td>0.215154</td>\n",
              "      <td>NaN</td>\n",
              "    </tr>\n",
              "  </tbody>\n",
              "</table>\n",
              "</div>\n",
              "      <button class=\"colab-df-convert\" onclick=\"convertToInteractive('df-295e4813-18f8-4c84-9fb0-4acf195a496c')\"\n",
              "              title=\"Convert this dataframe to an interactive table.\"\n",
              "              style=\"display:none;\">\n",
              "        \n",
              "  <svg xmlns=\"http://www.w3.org/2000/svg\" height=\"24px\"viewBox=\"0 0 24 24\"\n",
              "       width=\"24px\">\n",
              "    <path d=\"M0 0h24v24H0V0z\" fill=\"none\"/>\n",
              "    <path d=\"M18.56 5.44l.94 2.06.94-2.06 2.06-.94-2.06-.94-.94-2.06-.94 2.06-2.06.94zm-11 1L8.5 8.5l.94-2.06 2.06-.94-2.06-.94L8.5 2.5l-.94 2.06-2.06.94zm10 10l.94 2.06.94-2.06 2.06-.94-2.06-.94-.94-2.06-.94 2.06-2.06.94z\"/><path d=\"M17.41 7.96l-1.37-1.37c-.4-.4-.92-.59-1.43-.59-.52 0-1.04.2-1.43.59L10.3 9.45l-7.72 7.72c-.78.78-.78 2.05 0 2.83L4 21.41c.39.39.9.59 1.41.59.51 0 1.02-.2 1.41-.59l7.78-7.78 2.81-2.81c.8-.78.8-2.07 0-2.86zM5.41 20L4 18.59l7.72-7.72 1.47 1.35L5.41 20z\"/>\n",
              "  </svg>\n",
              "      </button>\n",
              "      \n",
              "  <style>\n",
              "    .colab-df-container {\n",
              "      display:flex;\n",
              "      flex-wrap:wrap;\n",
              "      gap: 12px;\n",
              "    }\n",
              "\n",
              "    .colab-df-convert {\n",
              "      background-color: #E8F0FE;\n",
              "      border: none;\n",
              "      border-radius: 50%;\n",
              "      cursor: pointer;\n",
              "      display: none;\n",
              "      fill: #1967D2;\n",
              "      height: 32px;\n",
              "      padding: 0 0 0 0;\n",
              "      width: 32px;\n",
              "    }\n",
              "\n",
              "    .colab-df-convert:hover {\n",
              "      background-color: #E2EBFA;\n",
              "      box-shadow: 0px 1px 2px rgba(60, 64, 67, 0.3), 0px 1px 3px 1px rgba(60, 64, 67, 0.15);\n",
              "      fill: #174EA6;\n",
              "    }\n",
              "\n",
              "    [theme=dark] .colab-df-convert {\n",
              "      background-color: #3B4455;\n",
              "      fill: #D2E3FC;\n",
              "    }\n",
              "\n",
              "    [theme=dark] .colab-df-convert:hover {\n",
              "      background-color: #434B5C;\n",
              "      box-shadow: 0px 1px 3px 1px rgba(0, 0, 0, 0.15);\n",
              "      filter: drop-shadow(0px 1px 2px rgba(0, 0, 0, 0.3));\n",
              "      fill: #FFFFFF;\n",
              "    }\n",
              "  </style>\n",
              "\n",
              "      <script>\n",
              "        const buttonEl =\n",
              "          document.querySelector('#df-295e4813-18f8-4c84-9fb0-4acf195a496c button.colab-df-convert');\n",
              "        buttonEl.style.display =\n",
              "          google.colab.kernel.accessAllowed ? 'block' : 'none';\n",
              "\n",
              "        async function convertToInteractive(key) {\n",
              "          const element = document.querySelector('#df-295e4813-18f8-4c84-9fb0-4acf195a496c');\n",
              "          const dataTable =\n",
              "            await google.colab.kernel.invokeFunction('convertToInteractive',\n",
              "                                                     [key], {});\n",
              "          if (!dataTable) return;\n",
              "\n",
              "          const docLinkHtml = 'Like what you see? Visit the ' +\n",
              "            '<a target=\"_blank\" href=https://colab.research.google.com/notebooks/data_table.ipynb>data table notebook</a>'\n",
              "            + ' to learn more about interactive tables.';\n",
              "          element.innerHTML = '';\n",
              "          dataTable['output_type'] = 'display_data';\n",
              "          await google.colab.output.renderOutput(dataTable, element);\n",
              "          const docLink = document.createElement('div');\n",
              "          docLink.innerHTML = docLinkHtml;\n",
              "          element.appendChild(docLink);\n",
              "        }\n",
              "      </script>\n",
              "    </div>\n",
              "  </div>\n",
              "  "
            ],
            "text/plain": [
              "                                    File Hash SHA256  ... Unnamed: 30\n",
              "0  05b9bc0f989933445882ad289627b111b0fb26374ad738...  ...         NaN\n",
              "1  09b6ee0113d9278fc42c6ffb07242d7c3060e73c184f14...  ...         NaN\n",
              "2  27f994b59c6a4f62b90132e7d86820d9e364cc9d4dea8c...  ...         NaN\n",
              "3  5855009e5046a14d5b48f9f48273fdf4c98dfd150848dc...  ...         NaN\n",
              "4  6955b01d03314aef4d5d3a93567cc108ef792b17b79b71...  ...         NaN\n",
              "\n",
              "[5 rows x 31 columns]"
            ]
          },
          "metadata": {},
          "execution_count": 5
        }
      ]
    },
    {
      "cell_type": "code",
      "source": [
        "updated_df = df.rename(columns={'File Hash SHA256': 'File_Hash_SHA256', 'Location.Provider': 'Location_Provider', 'Location.Accuracy':'Location_Accuracy', 'Location.Latitude': 'Location_Latitude', 'Wifi MAC': 'Wifi_MAC', 'Location.Longitude':'Location_Longitude', 'Location.Bearing':'Location_Bearing', 'Location.Time':'Location_Time', 'File Modified':'File_Modified', 'Location.Altitude':'Location_Altitude', 'Proof Generated':'Proof_Generated', 'File Path':'File_Path', 'Location.Speed':'Location_Speed' })"
      ],
      "metadata": {
        "id": "oKBG_84fIPB5"
      },
      "execution_count": 6,
      "outputs": []
    },
    {
      "cell_type": "code",
      "source": [
        "import matplotlib\n",
        "from matplotlib.backends.backend_pdf import PdfPages\n",
        "from PyPDF2 import PdfFileMerger\n",
        "from google.colab import files\n",
        "from matplotlib import rcParams\n",
        "\n",
        "hardware_software_metdata_list = ['Locale', 'Location_Provider', 'IPv6', 'IPv4','Language', 'NetworkType', 'Network', 'Manufacturer', 'DataType', 'Hardware', 'ScreenSize', 'CellInfo']\n",
        "\n",
        "#Initiate device ID dataframe\n",
        "DeviceID_List = []\n",
        "\n",
        "# Create new dataframe for pivot table, with Unique Device IDs as the column headers, and hardware/software features as the row index\n",
        "for i in list(updated_df['DeviceID']):\n",
        "  if i not in DeviceID_List:\n",
        "    DeviceID_List.append(i)\n",
        "\n",
        "device_df = pd.DataFrame(columns=DeviceID_List, index=hardware_software_metdata_list)\n",
        "print(device_df)"
      ],
      "metadata": {
        "colab": {
          "base_uri": "https://localhost:8080/"
        },
        "id": "bxMEx_0Iepd3",
        "outputId": "46efede2-6dff-43b2-be8e-2ae1da0a24a8"
      },
      "execution_count": 7,
      "outputs": [
        {
          "output_type": "stream",
          "name": "stdout",
          "text": [
            "                  35ow5ifrnuvmzguko87wvkeg8  ... 3jf4vm9udkl9dbxg3r9g9ot55\n",
            "Locale                                  NaN  ...                       NaN\n",
            "Location_Provider                       NaN  ...                       NaN\n",
            "IPv6                                    NaN  ...                       NaN\n",
            "IPv4                                    NaN  ...                       NaN\n",
            "Language                                NaN  ...                       NaN\n",
            "NetworkType                             NaN  ...                       NaN\n",
            "Network                                 NaN  ...                       NaN\n",
            "Manufacturer                            NaN  ...                       NaN\n",
            "DataType                                NaN  ...                       NaN\n",
            "Hardware                                NaN  ...                       NaN\n",
            "ScreenSize                              NaN  ...                       NaN\n",
            "CellInfo                                NaN  ...                       NaN\n",
            "\n",
            "[12 rows x 6 columns]\n"
          ]
        }
      ]
    },
    {
      "cell_type": "code",
      "source": [
        "# Group number of each unique feature by device ID.\n",
        "# (For example, if there are two language per device ID, count \"2\")\n",
        "# For most features, there will be 1 feature per device ID.\n",
        "\n",
        "for i, row in device_df.iterrows():\n",
        "  aggregate_df = updated_df.groupby(\"DeviceID\")[i].nunique()\n",
        "  device_df = device_df.append(aggregate_df)"
      ],
      "metadata": {
        "id": "y639znCJtTir"
      },
      "execution_count": 8,
      "outputs": []
    },
    {
      "cell_type": "code",
      "source": [
        "#This is a REALLY SLOPPY way of doing this, but it's what worked quickest so I'm leaving it for now.\n",
        "# If you're translating this into JavaScript, a better option would be to replace each line based on the index\n",
        "device_df = device_df.dropna()"
      ],
      "metadata": {
        "id": "tGSvgKBG-rR-"
      },
      "execution_count": 9,
      "outputs": []
    },
    {
      "cell_type": "code",
      "source": [
        "device_df.head()"
      ],
      "metadata": {
        "colab": {
          "base_uri": "https://localhost:8080/",
          "height": 270
        },
        "id": "dgWP8PzLCW2Z",
        "outputId": "8ba2499f-5beb-4ecf-a08b-bea693c9791f"
      },
      "execution_count": 10,
      "outputs": [
        {
          "output_type": "execute_result",
          "data": {
            "text/html": [
              "\n",
              "  <div id=\"df-7bc56e90-3b75-4b57-9e66-5d7ad1944a09\">\n",
              "    <div class=\"colab-df-container\">\n",
              "      <div>\n",
              "<style scoped>\n",
              "    .dataframe tbody tr th:only-of-type {\n",
              "        vertical-align: middle;\n",
              "    }\n",
              "\n",
              "    .dataframe tbody tr th {\n",
              "        vertical-align: top;\n",
              "    }\n",
              "\n",
              "    .dataframe thead th {\n",
              "        text-align: right;\n",
              "    }\n",
              "</style>\n",
              "<table border=\"1\" class=\"dataframe\">\n",
              "  <thead>\n",
              "    <tr style=\"text-align: right;\">\n",
              "      <th></th>\n",
              "      <th>35ow5ifrnuvmzguko87wvkeg8</th>\n",
              "      <th>4r83r0sk1f1x8akc1mrszso0n</th>\n",
              "      <th>3hsk2wook5uvehesdc1xo85j0</th>\n",
              "      <th>4dq4eszdb98ukzd78rlx2rr7</th>\n",
              "      <th>4gf222mtlsf8d0xjxf26hh5sz</th>\n",
              "      <th>3jf4vm9udkl9dbxg3r9g9ot55</th>\n",
              "    </tr>\n",
              "  </thead>\n",
              "  <tbody>\n",
              "    <tr>\n",
              "      <th>Locale</th>\n",
              "      <td>1</td>\n",
              "      <td>1</td>\n",
              "      <td>1</td>\n",
              "      <td>1</td>\n",
              "      <td>1</td>\n",
              "      <td>1</td>\n",
              "    </tr>\n",
              "    <tr>\n",
              "      <th>Location_Provider</th>\n",
              "      <td>1</td>\n",
              "      <td>0</td>\n",
              "      <td>0</td>\n",
              "      <td>1</td>\n",
              "      <td>1</td>\n",
              "      <td>1</td>\n",
              "    </tr>\n",
              "    <tr>\n",
              "      <th>IPv6</th>\n",
              "      <td>1</td>\n",
              "      <td>1</td>\n",
              "      <td>1</td>\n",
              "      <td>1</td>\n",
              "      <td>1</td>\n",
              "      <td>1</td>\n",
              "    </tr>\n",
              "    <tr>\n",
              "      <th>IPv4</th>\n",
              "      <td>1</td>\n",
              "      <td>1</td>\n",
              "      <td>1</td>\n",
              "      <td>0</td>\n",
              "      <td>1</td>\n",
              "      <td>1</td>\n",
              "    </tr>\n",
              "    <tr>\n",
              "      <th>Language</th>\n",
              "      <td>1</td>\n",
              "      <td>1</td>\n",
              "      <td>1</td>\n",
              "      <td>1</td>\n",
              "      <td>1</td>\n",
              "      <td>1</td>\n",
              "    </tr>\n",
              "  </tbody>\n",
              "</table>\n",
              "</div>\n",
              "      <button class=\"colab-df-convert\" onclick=\"convertToInteractive('df-7bc56e90-3b75-4b57-9e66-5d7ad1944a09')\"\n",
              "              title=\"Convert this dataframe to an interactive table.\"\n",
              "              style=\"display:none;\">\n",
              "        \n",
              "  <svg xmlns=\"http://www.w3.org/2000/svg\" height=\"24px\"viewBox=\"0 0 24 24\"\n",
              "       width=\"24px\">\n",
              "    <path d=\"M0 0h24v24H0V0z\" fill=\"none\"/>\n",
              "    <path d=\"M18.56 5.44l.94 2.06.94-2.06 2.06-.94-2.06-.94-.94-2.06-.94 2.06-2.06.94zm-11 1L8.5 8.5l.94-2.06 2.06-.94-2.06-.94L8.5 2.5l-.94 2.06-2.06.94zm10 10l.94 2.06.94-2.06 2.06-.94-2.06-.94-.94-2.06-.94 2.06-2.06.94z\"/><path d=\"M17.41 7.96l-1.37-1.37c-.4-.4-.92-.59-1.43-.59-.52 0-1.04.2-1.43.59L10.3 9.45l-7.72 7.72c-.78.78-.78 2.05 0 2.83L4 21.41c.39.39.9.59 1.41.59.51 0 1.02-.2 1.41-.59l7.78-7.78 2.81-2.81c.8-.78.8-2.07 0-2.86zM5.41 20L4 18.59l7.72-7.72 1.47 1.35L5.41 20z\"/>\n",
              "  </svg>\n",
              "      </button>\n",
              "      \n",
              "  <style>\n",
              "    .colab-df-container {\n",
              "      display:flex;\n",
              "      flex-wrap:wrap;\n",
              "      gap: 12px;\n",
              "    }\n",
              "\n",
              "    .colab-df-convert {\n",
              "      background-color: #E8F0FE;\n",
              "      border: none;\n",
              "      border-radius: 50%;\n",
              "      cursor: pointer;\n",
              "      display: none;\n",
              "      fill: #1967D2;\n",
              "      height: 32px;\n",
              "      padding: 0 0 0 0;\n",
              "      width: 32px;\n",
              "    }\n",
              "\n",
              "    .colab-df-convert:hover {\n",
              "      background-color: #E2EBFA;\n",
              "      box-shadow: 0px 1px 2px rgba(60, 64, 67, 0.3), 0px 1px 3px 1px rgba(60, 64, 67, 0.15);\n",
              "      fill: #174EA6;\n",
              "    }\n",
              "\n",
              "    [theme=dark] .colab-df-convert {\n",
              "      background-color: #3B4455;\n",
              "      fill: #D2E3FC;\n",
              "    }\n",
              "\n",
              "    [theme=dark] .colab-df-convert:hover {\n",
              "      background-color: #434B5C;\n",
              "      box-shadow: 0px 1px 3px 1px rgba(0, 0, 0, 0.15);\n",
              "      filter: drop-shadow(0px 1px 2px rgba(0, 0, 0, 0.3));\n",
              "      fill: #FFFFFF;\n",
              "    }\n",
              "  </style>\n",
              "\n",
              "      <script>\n",
              "        const buttonEl =\n",
              "          document.querySelector('#df-7bc56e90-3b75-4b57-9e66-5d7ad1944a09 button.colab-df-convert');\n",
              "        buttonEl.style.display =\n",
              "          google.colab.kernel.accessAllowed ? 'block' : 'none';\n",
              "\n",
              "        async function convertToInteractive(key) {\n",
              "          const element = document.querySelector('#df-7bc56e90-3b75-4b57-9e66-5d7ad1944a09');\n",
              "          const dataTable =\n",
              "            await google.colab.kernel.invokeFunction('convertToInteractive',\n",
              "                                                     [key], {});\n",
              "          if (!dataTable) return;\n",
              "\n",
              "          const docLinkHtml = 'Like what you see? Visit the ' +\n",
              "            '<a target=\"_blank\" href=https://colab.research.google.com/notebooks/data_table.ipynb>data table notebook</a>'\n",
              "            + ' to learn more about interactive tables.';\n",
              "          element.innerHTML = '';\n",
              "          dataTable['output_type'] = 'display_data';\n",
              "          await google.colab.output.renderOutput(dataTable, element);\n",
              "          const docLink = document.createElement('div');\n",
              "          docLink.innerHTML = docLinkHtml;\n",
              "          element.appendChild(docLink);\n",
              "        }\n",
              "      </script>\n",
              "    </div>\n",
              "  </div>\n",
              "  "
            ],
            "text/plain": [
              "                  35ow5ifrnuvmzguko87wvkeg8  ... 3jf4vm9udkl9dbxg3r9g9ot55\n",
              "Locale                                    1  ...                         1\n",
              "Location_Provider                         1  ...                         1\n",
              "IPv6                                      1  ...                         1\n",
              "IPv4                                      1  ...                         1\n",
              "Language                                  1  ...                         1\n",
              "\n",
              "[5 rows x 6 columns]"
            ]
          },
          "metadata": {},
          "execution_count": 10
        }
      ]
    },
    {
      "cell_type": "code",
      "source": [
        "with pd.option_context('display.max_rows', None, 'display.max_columns', None):\n",
        "    print(device_df)"
      ],
      "metadata": {
        "id": "XmJTKfQPFU63",
        "outputId": "18003473-b04b-4832-a04f-d797fd30a1f4",
        "colab": {
          "base_uri": "https://localhost:8080/"
        }
      },
      "execution_count": 11,
      "outputs": [
        {
          "output_type": "stream",
          "name": "stdout",
          "text": [
            "                  35ow5ifrnuvmzguko87wvkeg8 4r83r0sk1f1x8akc1mrszso0n  \\\n",
            "Locale                                    1                         1   \n",
            "Location_Provider                         1                         0   \n",
            "IPv6                                      1                         1   \n",
            "IPv4                                      1                         1   \n",
            "Language                                  1                         1   \n",
            "NetworkType                               1                         1   \n",
            "Network                                   1                         1   \n",
            "Manufacturer                              1                         1   \n",
            "DataType                                  1                         1   \n",
            "Hardware                                  1                         1   \n",
            "ScreenSize                                1                         1   \n",
            "CellInfo                                  1                         1   \n",
            "\n",
            "                  3hsk2wook5uvehesdc1xo85j0 4dq4eszdb98ukzd78rlx2rr7  \\\n",
            "Locale                                    1                        1   \n",
            "Location_Provider                         0                        1   \n",
            "IPv6                                      1                        1   \n",
            "IPv4                                      1                        0   \n",
            "Language                                  1                        1   \n",
            "NetworkType                               1                        1   \n",
            "Network                                   1                        1   \n",
            "Manufacturer                              1                        1   \n",
            "DataType                                  1                        1   \n",
            "Hardware                                  1                        1   \n",
            "ScreenSize                                1                        1   \n",
            "CellInfo                                  1                        1   \n",
            "\n",
            "                  4gf222mtlsf8d0xjxf26hh5sz 3jf4vm9udkl9dbxg3r9g9ot55  \n",
            "Locale                                    1                         1  \n",
            "Location_Provider                         1                         1  \n",
            "IPv6                                      1                         1  \n",
            "IPv4                                      1                         1  \n",
            "Language                                  1                         1  \n",
            "NetworkType                               1                         1  \n",
            "Network                                   1                         1  \n",
            "Manufacturer                              1                         1  \n",
            "DataType                                  1                         1  \n",
            "Hardware                                  1                         1  \n",
            "ScreenSize                                1                         1  \n",
            "CellInfo                                  1                         1  \n"
          ]
        }
      ]
    },
    {
      "cell_type": "code",
      "source": [
        "# In a future version of the code, I'm going to change the initiation of the DeviceID Dataframe to avoid having to transpose it later on.\n",
        "# Trial and error process of working with the histogram and the pivot table, sorry about that!\n",
        "\n",
        "transpose_df = device_df.T"
      ],
      "metadata": {
        "id": "5NvylXrZNKGB"
      },
      "execution_count": 12,
      "outputs": []
    },
    {
      "cell_type": "code",
      "source": [
        "with pd.option_context('display.max_rows', None, 'display.max_columns', None):\n",
        "    print(transpose_df)"
      ],
      "metadata": {
        "colab": {
          "base_uri": "https://localhost:8080/"
        },
        "id": "Cgke6nexNPYB",
        "outputId": "c234e09c-4e3f-4ed7-d822-f5da688f7ace"
      },
      "execution_count": 13,
      "outputs": [
        {
          "output_type": "stream",
          "name": "stdout",
          "text": [
            "                          Locale Location_Provider IPv6 IPv4 Language  \\\n",
            "35ow5ifrnuvmzguko87wvkeg8      1                 1    1    1        1   \n",
            "4r83r0sk1f1x8akc1mrszso0n      1                 0    1    1        1   \n",
            "3hsk2wook5uvehesdc1xo85j0      1                 0    1    1        1   \n",
            "4dq4eszdb98ukzd78rlx2rr7       1                 1    1    0        1   \n",
            "4gf222mtlsf8d0xjxf26hh5sz      1                 1    1    1        1   \n",
            "3jf4vm9udkl9dbxg3r9g9ot55      1                 1    1    1        1   \n",
            "\n",
            "                          NetworkType Network Manufacturer DataType Hardware  \\\n",
            "35ow5ifrnuvmzguko87wvkeg8           1       1            1        1        1   \n",
            "4r83r0sk1f1x8akc1mrszso0n           1       1            1        1        1   \n",
            "3hsk2wook5uvehesdc1xo85j0           1       1            1        1        1   \n",
            "4dq4eszdb98ukzd78rlx2rr7            1       1            1        1        1   \n",
            "4gf222mtlsf8d0xjxf26hh5sz           1       1            1        1        1   \n",
            "3jf4vm9udkl9dbxg3r9g9ot55           1       1            1        1        1   \n",
            "\n",
            "                          ScreenSize CellInfo  \n",
            "35ow5ifrnuvmzguko87wvkeg8          1        1  \n",
            "4r83r0sk1f1x8akc1mrszso0n          1        1  \n",
            "3hsk2wook5uvehesdc1xo85j0          1        1  \n",
            "4dq4eszdb98ukzd78rlx2rr7           1        1  \n",
            "4gf222mtlsf8d0xjxf26hh5sz          1        1  \n",
            "3jf4vm9udkl9dbxg3r9g9ot55          1        1  \n"
          ]
        }
      ]
    },
    {
      "cell_type": "code",
      "source": [
        "merger = PdfFileMerger()\n",
        "result_page = PdfPages('result.pdf')\n",
        "\n",
        "# Create the histogram!\n",
        "\n",
        "plt.style.use('seaborn')\n",
        "plt.rcParams.update({'font.sans-serif':'Verdana'})\n",
        "\n",
        "for label, content in transpose_df.items():\n",
        "  file_name = f'Hisogram_Proof_{label}.pdf'\n",
        "  with PdfPages(file_name) as pdf:\n",
        "    plt.hist(transpose_df[label], align='mid')\n",
        "    plt.title(\"Histogram\")\n",
        "    plt.xlabel(label)\n",
        "    plt.ylabel(\"Number of Unique Devices\")\n",
        "    plt.suptitle(\"Histogram of \" + label + \" Across Unique Devices\")\n",
        "    plt.title(\"If there are bins outside of 1 or 0, this indicates inconsistency\", fontsize=8)\n",
        "    pdf.savefig()\n",
        "  merger.append(file_name)\n",
        "  plt.clf()\n",
        "\n",
        "merger.write('result.pdf')\n",
        "merger.close()\n",
        "files.download('result.pdf')"
      ],
      "metadata": {
        "id": "xj0T6mjTEDcp",
        "colab": {
          "base_uri": "https://localhost:8080/",
          "height": 108
        },
        "outputId": "4de600f4-2611-498e-bdf6-417de509e8ea"
      },
      "execution_count": 14,
      "outputs": [
        {
          "output_type": "stream",
          "name": "stderr",
          "text": [
            "findfont: Font family ['sans-serif'] not found. Falling back to DejaVu Sans.\n",
            "findfont: Font family ['sans-serif'] not found. Falling back to DejaVu Sans.\n",
            "findfont: Font family ['sans-serif'] not found. Falling back to DejaVu Sans.\n",
            "findfont: Font family ['sans-serif'] not found. Falling back to DejaVu Sans.\n"
          ]
        },
        {
          "output_type": "display_data",
          "data": {
            "application/javascript": [
              "\n",
              "    async function download(id, filename, size) {\n",
              "      if (!google.colab.kernel.accessAllowed) {\n",
              "        return;\n",
              "      }\n",
              "      const div = document.createElement('div');\n",
              "      const label = document.createElement('label');\n",
              "      label.textContent = `Downloading \"${filename}\": `;\n",
              "      div.appendChild(label);\n",
              "      const progress = document.createElement('progress');\n",
              "      progress.max = size;\n",
              "      div.appendChild(progress);\n",
              "      document.body.appendChild(div);\n",
              "\n",
              "      const buffers = [];\n",
              "      let downloaded = 0;\n",
              "\n",
              "      const channel = await google.colab.kernel.comms.open(id);\n",
              "      // Send a message to notify the kernel that we're ready.\n",
              "      channel.send({})\n",
              "\n",
              "      for await (const message of channel.messages) {\n",
              "        // Send a message to notify the kernel that we're ready.\n",
              "        channel.send({})\n",
              "        if (message.buffers) {\n",
              "          for (const buffer of message.buffers) {\n",
              "            buffers.push(buffer);\n",
              "            downloaded += buffer.byteLength;\n",
              "            progress.value = downloaded;\n",
              "          }\n",
              "        }\n",
              "      }\n",
              "      const blob = new Blob(buffers, {type: 'application/binary'});\n",
              "      const a = document.createElement('a');\n",
              "      a.href = window.URL.createObjectURL(blob);\n",
              "      a.download = filename;\n",
              "      div.appendChild(a);\n",
              "      a.click();\n",
              "      div.remove();\n",
              "    }\n",
              "  "
            ],
            "text/plain": [
              "<IPython.core.display.Javascript object>"
            ]
          },
          "metadata": {}
        },
        {
          "output_type": "display_data",
          "data": {
            "application/javascript": [
              "download(\"download_1d021714-1cf9-4348-b738-40db9e0987a1\", \"result.pdf\", 170918)"
            ],
            "text/plain": [
              "<IPython.core.display.Javascript object>"
            ]
          },
          "metadata": {}
        },
        {
          "output_type": "display_data",
          "data": {
            "text/plain": [
              "<Figure size 576x396 with 0 Axes>"
            ]
          },
          "metadata": {}
        }
      ]
    },
    {
      "cell_type": "code",
      "source": [
        "source = transpose_df\n",
        "header_list = list(transpose_df.columns)\n",
        "print(header_list)"
      ],
      "metadata": {
        "id": "GrmnmpHRC3bi",
        "colab": {
          "base_uri": "https://localhost:8080/"
        },
        "outputId": "a5d7033a-481c-4b4d-f239-ac7b2d0821af"
      },
      "execution_count": 17,
      "outputs": [
        {
          "output_type": "stream",
          "name": "stdout",
          "text": [
            "['Locale', 'Location_Provider', 'IPv6', 'IPv4', 'Language', 'NetworkType', 'Network', 'Manufacturer', 'DataType', 'Hardware', 'ScreenSize', 'CellInfo']\n"
          ]
        }
      ]
    },
    {
      "cell_type": "code",
      "source": [
        "import altair as alt"
      ],
      "metadata": {
        "id": "qOp49fzc7pgc"
      },
      "execution_count": 20,
      "outputs": []
    },
    {
      "cell_type": "code",
      "source": [
        "chart = alt.Chart(source).transform_fold(\n",
        "    header_list,\n",
        "    as_=['Device Attribute', 'Unique Devices']\n",
        ").mark_bar(\n",
        "    opacity=.7,\n",
        "    binSpacing=1,\n",
        "    clip=True\n",
        ").encode(\n",
        "    x = alt.X('Unique Devices:Q', axis=alt.Axis(title='Number of Unique Attributes per Device')),\n",
        "    y = alt.Y('count()', stack=None, axis=alt.Axis(title='Number of Devices')),\n",
        "    color = alt.Color('Device Attribute:N', scale=alt.Scale(scheme='category20b'))\n",
        "\n",
        ").properties(\n",
        "    title='Histogram of Device Attributes Across Devices'\n",
        ")\n",
        "\n",
        "\n",
        "chart.configure_title(\n",
        "    fontSize=20,\n",
        "    font='Tahoma',\n",
        "    anchor='start',\n",
        "    color='grey')"
      ],
      "metadata": {
        "colab": {
          "base_uri": "https://localhost:8080/",
          "height": 392
        },
        "id": "BK5ZTg5w61k9",
        "outputId": "bcb85efc-71d1-48b0-e3f0-07873d738e1f"
      },
      "execution_count": 32,
      "outputs": [
        {
          "output_type": "execute_result",
          "data": {
            "text/plain": [
              "alt.Chart(...)"
            ],
            "text/html": [
              "\n",
              "<div id=\"altair-viz-f0168772a98541648eaf72039ffd95b9\"></div>\n",
              "<script type=\"text/javascript\">\n",
              "  var VEGA_DEBUG = (typeof VEGA_DEBUG == \"undefined\") ? {} : VEGA_DEBUG;\n",
              "  (function(spec, embedOpt){\n",
              "    let outputDiv = document.currentScript.previousElementSibling;\n",
              "    if (outputDiv.id !== \"altair-viz-f0168772a98541648eaf72039ffd95b9\") {\n",
              "      outputDiv = document.getElementById(\"altair-viz-f0168772a98541648eaf72039ffd95b9\");\n",
              "    }\n",
              "    const paths = {\n",
              "      \"vega\": \"https://cdn.jsdelivr.net/npm//vega@5?noext\",\n",
              "      \"vega-lib\": \"https://cdn.jsdelivr.net/npm//vega-lib?noext\",\n",
              "      \"vega-lite\": \"https://cdn.jsdelivr.net/npm//vega-lite@4.17.0?noext\",\n",
              "      \"vega-embed\": \"https://cdn.jsdelivr.net/npm//vega-embed@6?noext\",\n",
              "    };\n",
              "\n",
              "    function maybeLoadScript(lib, version) {\n",
              "      var key = `${lib.replace(\"-\", \"\")}_version`;\n",
              "      return (VEGA_DEBUG[key] == version) ?\n",
              "        Promise.resolve(paths[lib]) :\n",
              "        new Promise(function(resolve, reject) {\n",
              "          var s = document.createElement('script');\n",
              "          document.getElementsByTagName(\"head\")[0].appendChild(s);\n",
              "          s.async = true;\n",
              "          s.onload = () => {\n",
              "            VEGA_DEBUG[key] = version;\n",
              "            return resolve(paths[lib]);\n",
              "          };\n",
              "          s.onerror = () => reject(`Error loading script: ${paths[lib]}`);\n",
              "          s.src = paths[lib];\n",
              "        });\n",
              "    }\n",
              "\n",
              "    function showError(err) {\n",
              "      outputDiv.innerHTML = `<div class=\"error\" style=\"color:red;\">${err}</div>`;\n",
              "      throw err;\n",
              "    }\n",
              "\n",
              "    function displayChart(vegaEmbed) {\n",
              "      vegaEmbed(outputDiv, spec, embedOpt)\n",
              "        .catch(err => showError(`Javascript Error: ${err.message}<br>This usually means there's a typo in your chart specification. See the javascript console for the full traceback.`));\n",
              "    }\n",
              "\n",
              "    if(typeof define === \"function\" && define.amd) {\n",
              "      requirejs.config({paths});\n",
              "      require([\"vega-embed\"], displayChart, err => showError(`Error loading script: ${err.message}`));\n",
              "    } else {\n",
              "      maybeLoadScript(\"vega\", \"5\")\n",
              "        .then(() => maybeLoadScript(\"vega-lite\", \"4.17.0\"))\n",
              "        .then(() => maybeLoadScript(\"vega-embed\", \"6\"))\n",
              "        .catch(showError)\n",
              "        .then(() => displayChart(vegaEmbed));\n",
              "    }\n",
              "  })({\"config\": {\"view\": {\"continuousWidth\": 400, \"continuousHeight\": 300}, \"title\": {\"anchor\": \"start\", \"color\": \"grey\", \"font\": \"Tahoma\", \"fontSize\": 20}}, \"data\": {\"name\": \"data-b63eaf569fec1de08daac1bdbcdea2eb\"}, \"mark\": {\"type\": \"bar\", \"binSpacing\": 1, \"clip\": true, \"opacity\": 0.7}, \"encoding\": {\"color\": {\"field\": \"Device Attribute\", \"scale\": {\"scheme\": \"category20b\"}, \"type\": \"nominal\"}, \"x\": {\"axis\": {\"title\": \"Number of Unique Attributes per Device\"}, \"field\": \"Unique Devices\", \"type\": \"quantitative\"}, \"y\": {\"aggregate\": \"count\", \"axis\": {\"title\": \"Number of Devices\"}, \"stack\": null, \"type\": \"quantitative\"}}, \"title\": \"Histogram of Device Attributes Across Devices\", \"transform\": [{\"fold\": [\"Locale\", \"Location_Provider\", \"IPv6\", \"IPv4\", \"Language\", \"NetworkType\", \"Network\", \"Manufacturer\", \"DataType\", \"Hardware\", \"ScreenSize\", \"CellInfo\"], \"as\": [\"Device Attribute\", \"Unique Devices\"]}], \"$schema\": \"https://vega.github.io/schema/vega-lite/v4.17.0.json\", \"datasets\": {\"data-b63eaf569fec1de08daac1bdbcdea2eb\": [{\"Locale\": 1, \"Location_Provider\": 1, \"IPv6\": 1, \"IPv4\": 1, \"Language\": 1, \"NetworkType\": 1, \"Network\": 1, \"Manufacturer\": 1, \"DataType\": 1, \"Hardware\": 1, \"ScreenSize\": 1, \"CellInfo\": 1}, {\"Locale\": 1, \"Location_Provider\": 0, \"IPv6\": 1, \"IPv4\": 1, \"Language\": 1, \"NetworkType\": 1, \"Network\": 1, \"Manufacturer\": 1, \"DataType\": 1, \"Hardware\": 1, \"ScreenSize\": 1, \"CellInfo\": 1}, {\"Locale\": 1, \"Location_Provider\": 0, \"IPv6\": 1, \"IPv4\": 1, \"Language\": 1, \"NetworkType\": 1, \"Network\": 1, \"Manufacturer\": 1, \"DataType\": 1, \"Hardware\": 1, \"ScreenSize\": 1, \"CellInfo\": 1}, {\"Locale\": 1, \"Location_Provider\": 1, \"IPv6\": 1, \"IPv4\": 0, \"Language\": 1, \"NetworkType\": 1, \"Network\": 1, \"Manufacturer\": 1, \"DataType\": 1, \"Hardware\": 1, \"ScreenSize\": 1, \"CellInfo\": 1}, {\"Locale\": 1, \"Location_Provider\": 1, \"IPv6\": 1, \"IPv4\": 1, \"Language\": 1, \"NetworkType\": 1, \"Network\": 1, \"Manufacturer\": 1, \"DataType\": 1, \"Hardware\": 1, \"ScreenSize\": 1, \"CellInfo\": 1}, {\"Locale\": 1, \"Location_Provider\": 1, \"IPv6\": 1, \"IPv4\": 1, \"Language\": 1, \"NetworkType\": 1, \"Network\": 1, \"Manufacturer\": 1, \"DataType\": 1, \"Hardware\": 1, \"ScreenSize\": 1, \"CellInfo\": 1}]}}, {\"mode\": \"vega-lite\"});\n",
              "</script>"
            ]
          },
          "metadata": {},
          "execution_count": 32
        }
      ]
    },
    {
      "cell_type": "code",
      "source": [
        ""
      ],
      "metadata": {
        "id": "83beD0-g7aRv"
      },
      "execution_count": null,
      "outputs": []
    }
  ]
}