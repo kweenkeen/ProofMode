{
  "nbformat": 4,
  "nbformat_minor": 0,
  "metadata": {
    "colab": {
      "name": "proof_data_output_largeset.ipynb",
      "provenance": [],
      "collapsed_sections": [],
      "include_colab_link": true
    },
    "kernelspec": {
      "name": "python3",
      "display_name": "Python 3"
    },
    "language_info": {
      "name": "python"
    }
  },
  "cells": [
    {
      "cell_type": "markdown",
      "metadata": {
        "id": "view-in-github",
        "colab_type": "text"
      },
      "source": [
        "<a href=\"https://colab.research.google.com/github/kweenkeen/ProofMode/blob/main/proof_data_output_largeset.ipynb\" target=\"_parent\"><img src=\"https://colab.research.google.com/assets/colab-badge.svg\" alt=\"Open In Colab\"/></a>"
      ]
    },
    {
      "cell_type": "code",
      "source": [
        "!pip install PyPDF2"
      ],
      "metadata": {
        "colab": {
          "base_uri": "https://localhost:8080/"
        },
        "id": "yCjYS_GLIbsV",
        "outputId": "9f021b04-1273-4804-b279-9567d67810d7"
      },
      "execution_count": null,
      "outputs": [
        {
          "output_type": "stream",
          "name": "stdout",
          "text": [
            "Collecting PyPDF2\n",
            "  Downloading PyPDF2-1.26.0.tar.gz (77 kB)\n",
            "\u001b[K     |████████████████████████████████| 77 kB 2.1 MB/s \n",
            "\u001b[?25hBuilding wheels for collected packages: PyPDF2\n",
            "  Building wheel for PyPDF2 (setup.py) ... \u001b[?25l\u001b[?25hdone\n",
            "  Created wheel for PyPDF2: filename=PyPDF2-1.26.0-py3-none-any.whl size=61102 sha256=b7e0eda5716936c355a64e60e8d8de5c6148bf42d134652b3a28ca38e40b3d7b\n",
            "  Stored in directory: /root/.cache/pip/wheels/80/1a/24/648467ade3a77ed20f35cfd2badd32134e96dd25ca811e64b3\n",
            "Successfully built PyPDF2\n",
            "Installing collected packages: PyPDF2\n",
            "Successfully installed PyPDF2-1.26.0\n"
          ]
        }
      ]
    },
    {
      "cell_type": "code",
      "execution_count": null,
      "metadata": {
        "colab": {
          "resources": {
            "http://localhost:8080/nbextensions/google.colab/files.js": {
              "data": "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",
              "ok": true,
              "headers": [
                [
                  "content-type",
                  "application/javascript"
                ]
              ],
              "status": 200,
              "status_text": "OK"
            }
          },
          "base_uri": "https://localhost:8080/",
          "height": 112
        },
        "id": "VR8aICKKHzJP",
        "outputId": "a140c13e-09d0-4a6c-8a8f-028778e393dc"
      },
      "outputs": [
        {
          "output_type": "display_data",
          "data": {
            "text/html": [
              "\n",
              "     <input type=\"file\" id=\"files-320f83c1-26af-4f8a-b4da-7753e4281c2f\" name=\"files[]\" multiple disabled\n",
              "        style=\"border:none\" />\n",
              "     <output id=\"result-320f83c1-26af-4f8a-b4da-7753e4281c2f\">\n",
              "      Upload widget is only available when the cell has been executed in the\n",
              "      current browser session. Please rerun this cell to enable.\n",
              "      </output>\n",
              "      <script src=\"/nbextensions/google.colab/files.js\"></script> "
            ],
            "text/plain": [
              "<IPython.core.display.HTML object>"
            ]
          },
          "metadata": {}
        },
        {
          "output_type": "stream",
          "name": "stdout",
          "text": [
            "Saving ProofMode_Collection_2022-01-09_Practice_15.csv to ProofMode_Collection_2022-01-09_Practice_15.csv\n"
          ]
        },
        {
          "output_type": "execute_result",
          "data": {
            "text/plain": [
              "{'ProofMode_Collection_2022-01-09_Practice_15.csv': b'File Hash SHA256,Locale,SafetyCheckCtsMatch,Location.Provider,IPv6,IPv4,Location.Accuracy,Location.Latitude,Language,NetworkType,Network,Manufacturer,DataType,Hardware,ScreenSize,Wifi MAC,Notes,DeviceID,Location.Longitude,Location.Bearing,SafetyCheckBasicIntegrity,Location.Time,File Modified,CellInfo,SafetyCheck,Location.Altitude,SafetyCheckTimestamp,Proof Generated,File Path,Location.Speed,Unnamed: 30\\r\\n07ec212ec53e975a61e72dcbe6865d33dfcce77788f3ce11eaaaacb7fdb427a3,USA,nan,gps,FE80::8FC3:7875:F5EE:438 2607:FC20:E81:5659:8FC3:7875:F5EE:438 FE80::94F1:1CFF:FEF9:463B FE80::9CD0:D2FF:FEEB:8C96 FE80::DA55:7696:6384:D89E FE80::EF0A:8069:82A0:3C7D FE80::930E:4562:2A25:FD92 FE80::1E0A:D05A:9B8:AB3B 2607:FB90:E7D:CA21:1E0A:D05A:9B8:AB3B ,192.168.29.208 192.168.200.1 192.0.0.4 ,18.893772,42.32857654,English,Wifi,Connected,Google,Mobile Data LTE,Google Pixel 4a,5.447290485,nan,nan,5upgzgbtn4s5kkg3m29v2in2e,-71.12502723,248.9,nan,1.64E+12,Saturday  January 8  2022 2:00:58 PM Eastern Standard Time,\"[{\"\"cellId\"\":12735497 \"\"tac\"\":21775 \"\"dbm\"\":-105} {\"\"cellId\"\":2147483647 \"\"tac\"\":2147483647 \"\"dbm\"\":-107} {\"\"cellId\"\":2147483647 \"\"tac\"\":2147483647 \"\"dbm\"\":-111}]\",nan,-28.25518799,nan,Sunday  January 9  2022 10:31:38 AM Eastern Standard Time,/storage/emulated/0/DCIM/Camera/PXL_20220108_190049734.jpg,1.36,nan\\r\\n0e6e32c7b0f35a8b7c9cdc73622fdf572dceb2971913b87b826b3f56984a30f8,USA,nan,gps,FE80::8FC3:7875:F5EE:438 2607:FC20:E81:5659:8FC3:7875:F5EE:438 FE80::94F1:1CFF:FEF9:463B FE80::9CD0:D2FF:FEEB:8C96 FE80::DA55:7696:6384:D89E FE80::EF0A:8069:82A0:3C7D FE80::930E:4562:2A25:FD92 FE80::1E0A:D05A:9B8:AB3B 2607:FB90:E7D:CA21:1E0A:D05A:9B8:AB3B ,192.168.29.208 192.168.200.1 192.0.0.4 ,17.893482,42.32857654,Spanish,Wifi,Connected,Google,Mobile Data LTE,Google Pixel 4a,5.447290485,nan,nan,5upgzgbtn4s5kkg3m29v2in2e,-71.12502723,248.9,nan,1.64E+12,Saturday  January 8  2022 2:00:59 PM Eastern Standard Time,\"[{\"\"cellId\"\":12735497 \"\"tac\"\":21775 \"\"dbm\"\":-105} {\"\"cellId\"\":2147483647 \"\"tac\"\":2147483647 \"\"dbm\"\":-107} {\"\"cellId\"\":2147483647 \"\"tac\"\":2147483647 \"\"dbm\"\":-111}]\",nan,-28.25518799,nan,Sunday  January 9  2022 10:27:05 AM Eastern Standard Time,/storage/emulated/0/DCIM/Camera/PXL_20220108_190051250.jpg,1.36,nan\\r\\n141c7b8aa75e5f862511d1b64bedd61c4c25daceea57f604ed7229b1cebc3fec,USA,nan,gps,FE80::8FC3:7875:F5EE:438 2607:FC20:E81:5659:8FC3:7875:F5EE:438 FE80::94F1:1CFF:FEF9:463B FE80::9CD0:D2FF:FEEB:8C96 FE80::DA55:7696:6384:D89E FE80::EF0A:8069:82A0:3C7D FE80::930E:4562:2A25:FD92 FE80::1E0A:D05A:9B8:AB3B 2607:FB90:E7D:CA21:1E0A:D05A:9B8:AB3B ,192.168.29.208 192.168.200.1 192.0.0.4 ,17.893482,42.32857654,Spanish,Wifi,Connected,Google,Mobile Data LTE,Google Pixel 4a,5.447290485,nan,nan,4upgzgbtn4s5kkg3m29v2in2e,-71.12502723,248.9,nan,1.64E+12,Saturday  January 8  2022 12:53:52 PM Eastern Standard Time,\"[{\"\"cellId\"\":12735497 \"\"tac\"\":21775 \"\"dbm\"\":-105} {\"\"cellId\"\":2147483647 \"\"tac\"\":2147483647 \"\"dbm\"\":-107} {\"\"cellId\"\":2147483647 \"\"tac\"\":2147483647 \"\"dbm\"\":-111}]\",nan,-28.25518799,nan,Sunday  January 9  2022 10:36:46 AM Eastern Standard Time,/storage/emulated/0/DCIM/Camera/PXL_20220108_175342784.mp4,1.36,nan\\r\\n07ec212ec53e975a61e72dcbe6865d33dfcce77788f3ce11eaaaacb7fdb427a3,USA,nan,gps,FE80::8FC3:7875:F5EE:438 2607:FC20:E81:5659:8FC3:7875:F5EE:438 FE80::94F1:1CFF:FEF9:463B FE80::9CD0:D2FF:FEEB:8C96 FE80::DA55:7696:6384:D89E FE80::EF0A:8069:82A0:3C7D FE80::930E:4562:2A25:FD92 FE80::1E0A:D05A:9B8:AB3B 2607:FB90:E7D:CA21:1E0A:D05A:9B8:AB3B ,192.168.29.208 192.168.200.1 192.0.0.4 ,17.893482,42.32857654,English,Wifi,Connected,Google,Mobile Data LTE,Google Pixel 4a,5.447290485,nan,nan,3upgzgbtn4s5kkg3m29v2in2e,-71.12502723,248.9,nan,1.64E+12,Saturday  January 8  2022 2:00:58 PM Eastern Standard Time,\"[{\"\"cellId\"\":12735497 \"\"tac\"\":21775 \"\"dbm\"\":-105} {\"\"cellId\"\":2147483647 \"\"tac\"\":2147483647 \"\"dbm\"\":-107} {\"\"cellId\"\":2147483647 \"\"tac\"\":2147483647 \"\"dbm\"\":-111}]\",nan,-28.25518799,nan,Sunday  January 9  2022 10:31:38 AM Eastern Standard Time,/storage/emulated/0/DCIM/Camera/PXL_20220108_190049734.jpg,1.36,nan\\r\\n'}"
            ]
          },
          "metadata": {},
          "execution_count": 2
        }
      ],
      "source": [
        "from google.colab import files\n",
        "\n",
        "files.upload()"
      ]
    },
    {
      "cell_type": "code",
      "source": [
        "from datetime import date\n",
        "import pandas as pd\n",
        "import matplotlib.pyplot as plt\n",
        "from matplotlib.backends.backend_pdf import PdfPages\n",
        "\n",
        "filename = input(\"Please enter the name of your file: \")\n",
        "\n",
        "df = pd.read_csv(filename)"
      ],
      "metadata": {
        "colab": {
          "base_uri": "https://localhost:8080/"
        },
        "id": "mrTz8aJwH65V",
        "outputId": "8a5f4e9d-49eb-44c4-bcf4-78e6492f4640"
      },
      "execution_count": null,
      "outputs": [
        {
          "name": "stdout",
          "output_type": "stream",
          "text": [
            "Please enter the name of your file: ProofMode_Collection_2022-01-09_Practice_15.csv\n"
          ]
        }
      ]
    },
    {
      "cell_type": "code",
      "source": [
        "df.head()"
      ],
      "metadata": {
        "id": "rTGr6MMrHfrC",
        "outputId": "e4092540-00cd-4f1e-e217-c4d540daf130",
        "colab": {
          "base_uri": "https://localhost:8080/",
          "height": 655
        }
      },
      "execution_count": null,
      "outputs": [
        {
          "output_type": "execute_result",
          "data": {
            "text/html": [
              "\n",
              "  <div id=\"df-fbca0531-2586-4617-bc8f-23f6de2ecc7d\">\n",
              "    <div class=\"colab-df-container\">\n",
              "      <div>\n",
              "<style scoped>\n",
              "    .dataframe tbody tr th:only-of-type {\n",
              "        vertical-align: middle;\n",
              "    }\n",
              "\n",
              "    .dataframe tbody tr th {\n",
              "        vertical-align: top;\n",
              "    }\n",
              "\n",
              "    .dataframe thead th {\n",
              "        text-align: right;\n",
              "    }\n",
              "</style>\n",
              "<table border=\"1\" class=\"dataframe\">\n",
              "  <thead>\n",
              "    <tr style=\"text-align: right;\">\n",
              "      <th></th>\n",
              "      <th>File Hash SHA256</th>\n",
              "      <th>Locale</th>\n",
              "      <th>SafetyCheckCtsMatch</th>\n",
              "      <th>Location.Provider</th>\n",
              "      <th>IPv6</th>\n",
              "      <th>IPv4</th>\n",
              "      <th>Location.Accuracy</th>\n",
              "      <th>Location.Latitude</th>\n",
              "      <th>Language</th>\n",
              "      <th>NetworkType</th>\n",
              "      <th>Network</th>\n",
              "      <th>Manufacturer</th>\n",
              "      <th>DataType</th>\n",
              "      <th>Hardware</th>\n",
              "      <th>ScreenSize</th>\n",
              "      <th>Wifi MAC</th>\n",
              "      <th>Notes</th>\n",
              "      <th>DeviceID</th>\n",
              "      <th>Location.Longitude</th>\n",
              "      <th>Location.Bearing</th>\n",
              "      <th>SafetyCheckBasicIntegrity</th>\n",
              "      <th>Location.Time</th>\n",
              "      <th>File Modified</th>\n",
              "      <th>CellInfo</th>\n",
              "      <th>SafetyCheck</th>\n",
              "      <th>Location.Altitude</th>\n",
              "      <th>SafetyCheckTimestamp</th>\n",
              "      <th>Proof Generated</th>\n",
              "      <th>File Path</th>\n",
              "      <th>Location.Speed</th>\n",
              "      <th>Unnamed: 30</th>\n",
              "    </tr>\n",
              "  </thead>\n",
              "  <tbody>\n",
              "    <tr>\n",
              "      <th>0</th>\n",
              "      <td>07ec212ec53e975a61e72dcbe6865d33dfcce77788f3ce...</td>\n",
              "      <td>USA</td>\n",
              "      <td>NaN</td>\n",
              "      <td>gps</td>\n",
              "      <td>FE80::8FC3:7875:F5EE:438 2607:FC20:E81:5659:8F...</td>\n",
              "      <td>192.168.29.208 192.168.200.1 192.0.0.4</td>\n",
              "      <td>18.893772</td>\n",
              "      <td>42.328577</td>\n",
              "      <td>English</td>\n",
              "      <td>Wifi</td>\n",
              "      <td>Connected</td>\n",
              "      <td>Google</td>\n",
              "      <td>Mobile Data LTE</td>\n",
              "      <td>Google Pixel 4a</td>\n",
              "      <td>5.44729</td>\n",
              "      <td>NaN</td>\n",
              "      <td>NaN</td>\n",
              "      <td>5upgzgbtn4s5kkg3m29v2in2e</td>\n",
              "      <td>-71.125027</td>\n",
              "      <td>248.9</td>\n",
              "      <td>NaN</td>\n",
              "      <td>1.640000e+12</td>\n",
              "      <td>Saturday  January 8  2022 2:00:58 PM Eastern S...</td>\n",
              "      <td>[{\"cellId\":12735497 \"tac\":21775 \"dbm\":-105} {\"...</td>\n",
              "      <td>NaN</td>\n",
              "      <td>-28.255188</td>\n",
              "      <td>NaN</td>\n",
              "      <td>Sunday  January 9  2022 10:31:38 AM Eastern St...</td>\n",
              "      <td>/storage/emulated/0/DCIM/Camera/PXL_20220108_1...</td>\n",
              "      <td>1.36</td>\n",
              "      <td>NaN</td>\n",
              "    </tr>\n",
              "    <tr>\n",
              "      <th>1</th>\n",
              "      <td>0e6e32c7b0f35a8b7c9cdc73622fdf572dceb2971913b8...</td>\n",
              "      <td>USA</td>\n",
              "      <td>NaN</td>\n",
              "      <td>gps</td>\n",
              "      <td>FE80::8FC3:7875:F5EE:438 2607:FC20:E81:5659:8F...</td>\n",
              "      <td>192.168.29.208 192.168.200.1 192.0.0.4</td>\n",
              "      <td>17.893482</td>\n",
              "      <td>42.328577</td>\n",
              "      <td>Spanish</td>\n",
              "      <td>Wifi</td>\n",
              "      <td>Connected</td>\n",
              "      <td>Google</td>\n",
              "      <td>Mobile Data LTE</td>\n",
              "      <td>Google Pixel 4a</td>\n",
              "      <td>5.44729</td>\n",
              "      <td>NaN</td>\n",
              "      <td>NaN</td>\n",
              "      <td>5upgzgbtn4s5kkg3m29v2in2e</td>\n",
              "      <td>-71.125027</td>\n",
              "      <td>248.9</td>\n",
              "      <td>NaN</td>\n",
              "      <td>1.640000e+12</td>\n",
              "      <td>Saturday  January 8  2022 2:00:59 PM Eastern S...</td>\n",
              "      <td>[{\"cellId\":12735497 \"tac\":21775 \"dbm\":-105} {\"...</td>\n",
              "      <td>NaN</td>\n",
              "      <td>-28.255188</td>\n",
              "      <td>NaN</td>\n",
              "      <td>Sunday  January 9  2022 10:27:05 AM Eastern St...</td>\n",
              "      <td>/storage/emulated/0/DCIM/Camera/PXL_20220108_1...</td>\n",
              "      <td>1.36</td>\n",
              "      <td>NaN</td>\n",
              "    </tr>\n",
              "    <tr>\n",
              "      <th>2</th>\n",
              "      <td>141c7b8aa75e5f862511d1b64bedd61c4c25daceea57f6...</td>\n",
              "      <td>USA</td>\n",
              "      <td>NaN</td>\n",
              "      <td>gps</td>\n",
              "      <td>FE80::8FC3:7875:F5EE:438 2607:FC20:E81:5659:8F...</td>\n",
              "      <td>192.168.29.208 192.168.200.1 192.0.0.4</td>\n",
              "      <td>17.893482</td>\n",
              "      <td>42.328577</td>\n",
              "      <td>Spanish</td>\n",
              "      <td>Wifi</td>\n",
              "      <td>Connected</td>\n",
              "      <td>Google</td>\n",
              "      <td>Mobile Data LTE</td>\n",
              "      <td>Google Pixel 4a</td>\n",
              "      <td>5.44729</td>\n",
              "      <td>NaN</td>\n",
              "      <td>NaN</td>\n",
              "      <td>4upgzgbtn4s5kkg3m29v2in2e</td>\n",
              "      <td>-71.125027</td>\n",
              "      <td>248.9</td>\n",
              "      <td>NaN</td>\n",
              "      <td>1.640000e+12</td>\n",
              "      <td>Saturday  January 8  2022 12:53:52 PM Eastern ...</td>\n",
              "      <td>[{\"cellId\":12735497 \"tac\":21775 \"dbm\":-105} {\"...</td>\n",
              "      <td>NaN</td>\n",
              "      <td>-28.255188</td>\n",
              "      <td>NaN</td>\n",
              "      <td>Sunday  January 9  2022 10:36:46 AM Eastern St...</td>\n",
              "      <td>/storage/emulated/0/DCIM/Camera/PXL_20220108_1...</td>\n",
              "      <td>1.36</td>\n",
              "      <td>NaN</td>\n",
              "    </tr>\n",
              "    <tr>\n",
              "      <th>3</th>\n",
              "      <td>07ec212ec53e975a61e72dcbe6865d33dfcce77788f3ce...</td>\n",
              "      <td>USA</td>\n",
              "      <td>NaN</td>\n",
              "      <td>gps</td>\n",
              "      <td>FE80::8FC3:7875:F5EE:438 2607:FC20:E81:5659:8F...</td>\n",
              "      <td>192.168.29.208 192.168.200.1 192.0.0.4</td>\n",
              "      <td>17.893482</td>\n",
              "      <td>42.328577</td>\n",
              "      <td>English</td>\n",
              "      <td>Wifi</td>\n",
              "      <td>Connected</td>\n",
              "      <td>Google</td>\n",
              "      <td>Mobile Data LTE</td>\n",
              "      <td>Google Pixel 4a</td>\n",
              "      <td>5.44729</td>\n",
              "      <td>NaN</td>\n",
              "      <td>NaN</td>\n",
              "      <td>3upgzgbtn4s5kkg3m29v2in2e</td>\n",
              "      <td>-71.125027</td>\n",
              "      <td>248.9</td>\n",
              "      <td>NaN</td>\n",
              "      <td>1.640000e+12</td>\n",
              "      <td>Saturday  January 8  2022 2:00:58 PM Eastern S...</td>\n",
              "      <td>[{\"cellId\":12735497 \"tac\":21775 \"dbm\":-105} {\"...</td>\n",
              "      <td>NaN</td>\n",
              "      <td>-28.255188</td>\n",
              "      <td>NaN</td>\n",
              "      <td>Sunday  January 9  2022 10:31:38 AM Eastern St...</td>\n",
              "      <td>/storage/emulated/0/DCIM/Camera/PXL_20220108_1...</td>\n",
              "      <td>1.36</td>\n",
              "      <td>NaN</td>\n",
              "    </tr>\n",
              "  </tbody>\n",
              "</table>\n",
              "</div>\n",
              "      <button class=\"colab-df-convert\" onclick=\"convertToInteractive('df-fbca0531-2586-4617-bc8f-23f6de2ecc7d')\"\n",
              "              title=\"Convert this dataframe to an interactive table.\"\n",
              "              style=\"display:none;\">\n",
              "        \n",
              "  <svg xmlns=\"http://www.w3.org/2000/svg\" height=\"24px\"viewBox=\"0 0 24 24\"\n",
              "       width=\"24px\">\n",
              "    <path d=\"M0 0h24v24H0V0z\" fill=\"none\"/>\n",
              "    <path d=\"M18.56 5.44l.94 2.06.94-2.06 2.06-.94-2.06-.94-.94-2.06-.94 2.06-2.06.94zm-11 1L8.5 8.5l.94-2.06 2.06-.94-2.06-.94L8.5 2.5l-.94 2.06-2.06.94zm10 10l.94 2.06.94-2.06 2.06-.94-2.06-.94-.94-2.06-.94 2.06-2.06.94z\"/><path d=\"M17.41 7.96l-1.37-1.37c-.4-.4-.92-.59-1.43-.59-.52 0-1.04.2-1.43.59L10.3 9.45l-7.72 7.72c-.78.78-.78 2.05 0 2.83L4 21.41c.39.39.9.59 1.41.59.51 0 1.02-.2 1.41-.59l7.78-7.78 2.81-2.81c.8-.78.8-2.07 0-2.86zM5.41 20L4 18.59l7.72-7.72 1.47 1.35L5.41 20z\"/>\n",
              "  </svg>\n",
              "      </button>\n",
              "      \n",
              "  <style>\n",
              "    .colab-df-container {\n",
              "      display:flex;\n",
              "      flex-wrap:wrap;\n",
              "      gap: 12px;\n",
              "    }\n",
              "\n",
              "    .colab-df-convert {\n",
              "      background-color: #E8F0FE;\n",
              "      border: none;\n",
              "      border-radius: 50%;\n",
              "      cursor: pointer;\n",
              "      display: none;\n",
              "      fill: #1967D2;\n",
              "      height: 32px;\n",
              "      padding: 0 0 0 0;\n",
              "      width: 32px;\n",
              "    }\n",
              "\n",
              "    .colab-df-convert:hover {\n",
              "      background-color: #E2EBFA;\n",
              "      box-shadow: 0px 1px 2px rgba(60, 64, 67, 0.3), 0px 1px 3px 1px rgba(60, 64, 67, 0.15);\n",
              "      fill: #174EA6;\n",
              "    }\n",
              "\n",
              "    [theme=dark] .colab-df-convert {\n",
              "      background-color: #3B4455;\n",
              "      fill: #D2E3FC;\n",
              "    }\n",
              "\n",
              "    [theme=dark] .colab-df-convert:hover {\n",
              "      background-color: #434B5C;\n",
              "      box-shadow: 0px 1px 3px 1px rgba(0, 0, 0, 0.15);\n",
              "      filter: drop-shadow(0px 1px 2px rgba(0, 0, 0, 0.3));\n",
              "      fill: #FFFFFF;\n",
              "    }\n",
              "  </style>\n",
              "\n",
              "      <script>\n",
              "        const buttonEl =\n",
              "          document.querySelector('#df-fbca0531-2586-4617-bc8f-23f6de2ecc7d button.colab-df-convert');\n",
              "        buttonEl.style.display =\n",
              "          google.colab.kernel.accessAllowed ? 'block' : 'none';\n",
              "\n",
              "        async function convertToInteractive(key) {\n",
              "          const element = document.querySelector('#df-fbca0531-2586-4617-bc8f-23f6de2ecc7d');\n",
              "          const dataTable =\n",
              "            await google.colab.kernel.invokeFunction('convertToInteractive',\n",
              "                                                     [key], {});\n",
              "          if (!dataTable) return;\n",
              "\n",
              "          const docLinkHtml = 'Like what you see? Visit the ' +\n",
              "            '<a target=\"_blank\" href=https://colab.research.google.com/notebooks/data_table.ipynb>data table notebook</a>'\n",
              "            + ' to learn more about interactive tables.';\n",
              "          element.innerHTML = '';\n",
              "          dataTable['output_type'] = 'display_data';\n",
              "          await google.colab.output.renderOutput(dataTable, element);\n",
              "          const docLink = document.createElement('div');\n",
              "          docLink.innerHTML = docLinkHtml;\n",
              "          element.appendChild(docLink);\n",
              "        }\n",
              "      </script>\n",
              "    </div>\n",
              "  </div>\n",
              "  "
            ],
            "text/plain": [
              "                                    File Hash SHA256  ... Unnamed: 30\n",
              "0  07ec212ec53e975a61e72dcbe6865d33dfcce77788f3ce...  ...         NaN\n",
              "1  0e6e32c7b0f35a8b7c9cdc73622fdf572dceb2971913b8...  ...         NaN\n",
              "2  141c7b8aa75e5f862511d1b64bedd61c4c25daceea57f6...  ...         NaN\n",
              "3  07ec212ec53e975a61e72dcbe6865d33dfcce77788f3ce...  ...         NaN\n",
              "\n",
              "[4 rows x 31 columns]"
            ]
          },
          "metadata": {},
          "execution_count": 4
        }
      ]
    },
    {
      "cell_type": "code",
      "source": [
        "updated_df = df.rename(columns={'File Hash SHA256': 'File_Hash_SHA256', 'Location.Provider': 'Location_Provider', 'Location.Accuracy':'Location_Accuracy', 'Location.Latitude': 'Location_Latitude', 'Wifi MAC': 'Wifi_MAC', 'Location.Longitude':'Location_Longitude', 'Location.Bearing':'Location_Bearing', 'Location.Time':'Location_Time', 'File Modified':'File_Modified', 'Location.Altitude':'Location_Altitude', 'Proof Generated':'Proof_Generated', 'File Path':'File_Path', 'Location.Speed':'Location_Speed' })"
      ],
      "metadata": {
        "id": "oKBG_84fIPB5"
      },
      "execution_count": null,
      "outputs": []
    },
    {
      "cell_type": "code",
      "source": [
        "import matplotlib\n",
        "from matplotlib.backends.backend_pdf import PdfPages\n",
        "from PyPDF2 import PdfFileMerger\n",
        "from google.colab import files\n",
        "from matplotlib import rcParams\n",
        "\n",
        "plt.style.use('seaborn')\n",
        "plt.rcParams.update({'font.sans-serif':'Verdana'})\n",
        "\n",
        "hardware_software_metdata_list = ['Locale', 'Location_Provider', 'IPv6', 'IPv4','Language', 'NetworkType', 'Network', 'Manufacturer', 'DataType', 'Hardware', 'ScreenSize', 'CellInfo']\n",
        "\n",
        "#Initiate device ID dataframe\n",
        "DeviceID_List = []\n",
        "\n",
        "for i in list(updated_df['DeviceID']):\n",
        "  if i not in DeviceID_List:\n",
        "    DeviceID_List.append(i)\n",
        "\n",
        "device_df = pd.DataFrame(columns=DeviceID_List, index=hardware_software_metdata_list)\n",
        "print(device_df)"
      ],
      "metadata": {
        "colab": {
          "base_uri": "https://localhost:8080/"
        },
        "id": "bxMEx_0Iepd3",
        "outputId": "cf8da51c-48a4-4e76-c0c3-ee6a96632ad4"
      },
      "execution_count": null,
      "outputs": [
        {
          "output_type": "stream",
          "name": "stdout",
          "text": [
            "                  5upgzgbtn4s5kkg3m29v2in2e  ... 3upgzgbtn4s5kkg3m29v2in2e\n",
            "Locale                                  NaN  ...                       NaN\n",
            "Location_Provider                       NaN  ...                       NaN\n",
            "IPv6                                    NaN  ...                       NaN\n",
            "IPv4                                    NaN  ...                       NaN\n",
            "Language                                NaN  ...                       NaN\n",
            "NetworkType                             NaN  ...                       NaN\n",
            "Network                                 NaN  ...                       NaN\n",
            "Manufacturer                            NaN  ...                       NaN\n",
            "DataType                                NaN  ...                       NaN\n",
            "Hardware                                NaN  ...                       NaN\n",
            "ScreenSize                              NaN  ...                       NaN\n",
            "CellInfo                                NaN  ...                       NaN\n",
            "\n",
            "[12 rows x 3 columns]\n"
          ]
        }
      ]
    },
    {
      "cell_type": "code",
      "source": [
        "for i, row in device_df.iterrows():\n",
        "  aggregate_df = updated_df.groupby(\"DeviceID\")[i].nunique()\n",
        "  device_df = device_df.append(aggregate_df)"
      ],
      "metadata": {
        "id": "y639znCJtTir"
      },
      "execution_count": null,
      "outputs": []
    },
    {
      "cell_type": "code",
      "source": [
        "#This is a REALLY SLOPPY way of doing this, but it's what worked quickest so I'm leaving it for now.\n",
        "# If you're translating this into JavaScript, a better option would be to replace each line based on the index\n",
        "device_df = device_df.dropna()"
      ],
      "metadata": {
        "id": "tGSvgKBG-rR-"
      },
      "execution_count": null,
      "outputs": []
    },
    {
      "cell_type": "code",
      "source": [
        "device_df.head()"
      ],
      "metadata": {
        "colab": {
          "base_uri": "https://localhost:8080/",
          "height": 206
        },
        "id": "dgWP8PzLCW2Z",
        "outputId": "e6b56ef0-c66d-41f4-df02-b9f9dc90d128"
      },
      "execution_count": null,
      "outputs": [
        {
          "output_type": "execute_result",
          "data": {
            "text/html": [
              "\n",
              "  <div id=\"df-e05f3b77-6d05-4904-8afb-5e2196cb12cf\">\n",
              "    <div class=\"colab-df-container\">\n",
              "      <div>\n",
              "<style scoped>\n",
              "    .dataframe tbody tr th:only-of-type {\n",
              "        vertical-align: middle;\n",
              "    }\n",
              "\n",
              "    .dataframe tbody tr th {\n",
              "        vertical-align: top;\n",
              "    }\n",
              "\n",
              "    .dataframe thead th {\n",
              "        text-align: right;\n",
              "    }\n",
              "</style>\n",
              "<table border=\"1\" class=\"dataframe\">\n",
              "  <thead>\n",
              "    <tr style=\"text-align: right;\">\n",
              "      <th></th>\n",
              "      <th>5upgzgbtn4s5kkg3m29v2in2e</th>\n",
              "      <th>4upgzgbtn4s5kkg3m29v2in2e</th>\n",
              "      <th>3upgzgbtn4s5kkg3m29v2in2e</th>\n",
              "    </tr>\n",
              "  </thead>\n",
              "  <tbody>\n",
              "    <tr>\n",
              "      <th>Locale</th>\n",
              "      <td>1</td>\n",
              "      <td>1</td>\n",
              "      <td>1</td>\n",
              "    </tr>\n",
              "    <tr>\n",
              "      <th>Location_Provider</th>\n",
              "      <td>1</td>\n",
              "      <td>1</td>\n",
              "      <td>1</td>\n",
              "    </tr>\n",
              "    <tr>\n",
              "      <th>IPv6</th>\n",
              "      <td>1</td>\n",
              "      <td>1</td>\n",
              "      <td>1</td>\n",
              "    </tr>\n",
              "    <tr>\n",
              "      <th>IPv4</th>\n",
              "      <td>1</td>\n",
              "      <td>1</td>\n",
              "      <td>1</td>\n",
              "    </tr>\n",
              "    <tr>\n",
              "      <th>Language</th>\n",
              "      <td>2</td>\n",
              "      <td>1</td>\n",
              "      <td>1</td>\n",
              "    </tr>\n",
              "  </tbody>\n",
              "</table>\n",
              "</div>\n",
              "      <button class=\"colab-df-convert\" onclick=\"convertToInteractive('df-e05f3b77-6d05-4904-8afb-5e2196cb12cf')\"\n",
              "              title=\"Convert this dataframe to an interactive table.\"\n",
              "              style=\"display:none;\">\n",
              "        \n",
              "  <svg xmlns=\"http://www.w3.org/2000/svg\" height=\"24px\"viewBox=\"0 0 24 24\"\n",
              "       width=\"24px\">\n",
              "    <path d=\"M0 0h24v24H0V0z\" fill=\"none\"/>\n",
              "    <path d=\"M18.56 5.44l.94 2.06.94-2.06 2.06-.94-2.06-.94-.94-2.06-.94 2.06-2.06.94zm-11 1L8.5 8.5l.94-2.06 2.06-.94-2.06-.94L8.5 2.5l-.94 2.06-2.06.94zm10 10l.94 2.06.94-2.06 2.06-.94-2.06-.94-.94-2.06-.94 2.06-2.06.94z\"/><path d=\"M17.41 7.96l-1.37-1.37c-.4-.4-.92-.59-1.43-.59-.52 0-1.04.2-1.43.59L10.3 9.45l-7.72 7.72c-.78.78-.78 2.05 0 2.83L4 21.41c.39.39.9.59 1.41.59.51 0 1.02-.2 1.41-.59l7.78-7.78 2.81-2.81c.8-.78.8-2.07 0-2.86zM5.41 20L4 18.59l7.72-7.72 1.47 1.35L5.41 20z\"/>\n",
              "  </svg>\n",
              "      </button>\n",
              "      \n",
              "  <style>\n",
              "    .colab-df-container {\n",
              "      display:flex;\n",
              "      flex-wrap:wrap;\n",
              "      gap: 12px;\n",
              "    }\n",
              "\n",
              "    .colab-df-convert {\n",
              "      background-color: #E8F0FE;\n",
              "      border: none;\n",
              "      border-radius: 50%;\n",
              "      cursor: pointer;\n",
              "      display: none;\n",
              "      fill: #1967D2;\n",
              "      height: 32px;\n",
              "      padding: 0 0 0 0;\n",
              "      width: 32px;\n",
              "    }\n",
              "\n",
              "    .colab-df-convert:hover {\n",
              "      background-color: #E2EBFA;\n",
              "      box-shadow: 0px 1px 2px rgba(60, 64, 67, 0.3), 0px 1px 3px 1px rgba(60, 64, 67, 0.15);\n",
              "      fill: #174EA6;\n",
              "    }\n",
              "\n",
              "    [theme=dark] .colab-df-convert {\n",
              "      background-color: #3B4455;\n",
              "      fill: #D2E3FC;\n",
              "    }\n",
              "\n",
              "    [theme=dark] .colab-df-convert:hover {\n",
              "      background-color: #434B5C;\n",
              "      box-shadow: 0px 1px 3px 1px rgba(0, 0, 0, 0.15);\n",
              "      filter: drop-shadow(0px 1px 2px rgba(0, 0, 0, 0.3));\n",
              "      fill: #FFFFFF;\n",
              "    }\n",
              "  </style>\n",
              "\n",
              "      <script>\n",
              "        const buttonEl =\n",
              "          document.querySelector('#df-e05f3b77-6d05-4904-8afb-5e2196cb12cf button.colab-df-convert');\n",
              "        buttonEl.style.display =\n",
              "          google.colab.kernel.accessAllowed ? 'block' : 'none';\n",
              "\n",
              "        async function convertToInteractive(key) {\n",
              "          const element = document.querySelector('#df-e05f3b77-6d05-4904-8afb-5e2196cb12cf');\n",
              "          const dataTable =\n",
              "            await google.colab.kernel.invokeFunction('convertToInteractive',\n",
              "                                                     [key], {});\n",
              "          if (!dataTable) return;\n",
              "\n",
              "          const docLinkHtml = 'Like what you see? Visit the ' +\n",
              "            '<a target=\"_blank\" href=https://colab.research.google.com/notebooks/data_table.ipynb>data table notebook</a>'\n",
              "            + ' to learn more about interactive tables.';\n",
              "          element.innerHTML = '';\n",
              "          dataTable['output_type'] = 'display_data';\n",
              "          await google.colab.output.renderOutput(dataTable, element);\n",
              "          const docLink = document.createElement('div');\n",
              "          docLink.innerHTML = docLinkHtml;\n",
              "          element.appendChild(docLink);\n",
              "        }\n",
              "      </script>\n",
              "    </div>\n",
              "  </div>\n",
              "  "
            ],
            "text/plain": [
              "                  5upgzgbtn4s5kkg3m29v2in2e  ... 3upgzgbtn4s5kkg3m29v2in2e\n",
              "Locale                                    1  ...                         1\n",
              "Location_Provider                         1  ...                         1\n",
              "IPv6                                      1  ...                         1\n",
              "IPv4                                      1  ...                         1\n",
              "Language                                  2  ...                         1\n",
              "\n",
              "[5 rows x 3 columns]"
            ]
          },
          "metadata": {},
          "execution_count": 8
        }
      ]
    },
    {
      "cell_type": "code",
      "source": [
        "with pd.option_context('display.max_rows', None, 'display.max_columns', None):  # more options can be specified also\n",
        "    print(device_df)"
      ],
      "metadata": {
        "id": "XmJTKfQPFU63",
        "outputId": "21a59641-8b0e-40bc-e871-d4c91341abd5",
        "colab": {
          "base_uri": "https://localhost:8080/"
        }
      },
      "execution_count": null,
      "outputs": [
        {
          "output_type": "stream",
          "name": "stdout",
          "text": [
            "                  5upgzgbtn4s5kkg3m29v2in2e 4upgzgbtn4s5kkg3m29v2in2e  \\\n",
            "Locale                                    1                         1   \n",
            "Location_Provider                         1                         1   \n",
            "IPv6                                      1                         1   \n",
            "IPv4                                      1                         1   \n",
            "Language                                  2                         1   \n",
            "NetworkType                               1                         1   \n",
            "Network                                   1                         1   \n",
            "Manufacturer                              1                         1   \n",
            "DataType                                  1                         1   \n",
            "Hardware                                  1                         1   \n",
            "ScreenSize                                1                         1   \n",
            "CellInfo                                  1                         1   \n",
            "\n",
            "                  3upgzgbtn4s5kkg3m29v2in2e  \n",
            "Locale                                    1  \n",
            "Location_Provider                         1  \n",
            "IPv6                                      1  \n",
            "IPv4                                      1  \n",
            "Language                                  1  \n",
            "NetworkType                               1  \n",
            "Network                                   1  \n",
            "Manufacturer                              1  \n",
            "DataType                                  1  \n",
            "Hardware                                  1  \n",
            "ScreenSize                                1  \n",
            "CellInfo                                  1  \n"
          ]
        }
      ]
    },
    {
      "cell_type": "code",
      "source": [
        "transpose_df = device_df.T"
      ],
      "metadata": {
        "id": "5NvylXrZNKGB"
      },
      "execution_count": null,
      "outputs": []
    },
    {
      "cell_type": "code",
      "source": [
        "with pd.option_context('display.max_rows', None, 'display.max_columns', None):  # more options can be specified also\n",
        "    print(transpose_df)"
      ],
      "metadata": {
        "colab": {
          "base_uri": "https://localhost:8080/"
        },
        "id": "Cgke6nexNPYB",
        "outputId": "3b40ac43-8467-4f52-e96d-659741ff9730"
      },
      "execution_count": null,
      "outputs": [
        {
          "output_type": "stream",
          "name": "stdout",
          "text": [
            "                          Locale Location_Provider IPv6 IPv4 Language  \\\n",
            "5upgzgbtn4s5kkg3m29v2in2e      1                 1    1    1        2   \n",
            "4upgzgbtn4s5kkg3m29v2in2e      1                 1    1    1        1   \n",
            "3upgzgbtn4s5kkg3m29v2in2e      1                 1    1    1        1   \n",
            "\n",
            "                          NetworkType Network Manufacturer DataType Hardware  \\\n",
            "5upgzgbtn4s5kkg3m29v2in2e           1       1            1        1        1   \n",
            "4upgzgbtn4s5kkg3m29v2in2e           1       1            1        1        1   \n",
            "3upgzgbtn4s5kkg3m29v2in2e           1       1            1        1        1   \n",
            "\n",
            "                          ScreenSize CellInfo  \n",
            "5upgzgbtn4s5kkg3m29v2in2e          1        1  \n",
            "4upgzgbtn4s5kkg3m29v2in2e          1        1  \n",
            "3upgzgbtn4s5kkg3m29v2in2e          1        1  \n"
          ]
        }
      ]
    },
    {
      "cell_type": "code",
      "source": [
        "merger = PdfFileMerger()\n",
        "result_page = PdfPages('result.pdf')\n",
        "\n",
        "for label, content in transpose_df.items():\n",
        "  file_name = f'Hisogram_Proof_{label}.pdf'\n",
        "  with PdfPages(file_name) as pdf:\n",
        "    plt.hist(transpose_df[label], align='mid')\n",
        "    plt.title(\"Histogram\")\n",
        "    plt.xlabel(label)\n",
        "    plt.ylabel(\"Number of Unique Devices\")\n",
        "    plt.suptitle(\"Histogram of \" + label + \" Across Unique Devices\")\n",
        "    plt.title(\"If there are bins outisde of 1, this indicates inconsistency\", fontsize=8)\n",
        "    pdf.savefig()\n",
        "  merger.append(file_name)\n",
        "  plt.clf()\n",
        "\n",
        "merger.write('result.pdf')\n",
        "merger.close()\n",
        "files.download('result.pdf')"
      ],
      "metadata": {
        "id": "xj0T6mjTEDcp",
        "colab": {
          "base_uri": "https://localhost:8080/",
          "height": 1000
        },
        "outputId": "c1a13174-946a-4636-a23d-392febc73187"
      },
      "execution_count": null,
      "outputs": [
        {
          "output_type": "stream",
          "name": "stderr",
          "text": [
            "findfont: Font family ['sans-serif'] not found. Falling back to DejaVu Sans.\n"
          ]
        },
        {
          "output_type": "stream",
          "name": "stdout",
          "text": [
            "Locale\n",
            "5upgzgbtn4s5kkg3m29v2in2e    1\n",
            "4upgzgbtn4s5kkg3m29v2in2e    1\n",
            "3upgzgbtn4s5kkg3m29v2in2e    1\n",
            "Name: Locale, dtype: object\n",
            "Location_Provider\n",
            "5upgzgbtn4s5kkg3m29v2in2e    1\n",
            "4upgzgbtn4s5kkg3m29v2in2e    1\n",
            "3upgzgbtn4s5kkg3m29v2in2e    1\n",
            "Name: Location_Provider, dtype: object\n",
            "IPv6\n",
            "5upgzgbtn4s5kkg3m29v2in2e    1\n",
            "4upgzgbtn4s5kkg3m29v2in2e    1\n",
            "3upgzgbtn4s5kkg3m29v2in2e    1\n",
            "Name: IPv6, dtype: object\n",
            "IPv4\n",
            "5upgzgbtn4s5kkg3m29v2in2e    1\n",
            "4upgzgbtn4s5kkg3m29v2in2e    1\n",
            "3upgzgbtn4s5kkg3m29v2in2e    1\n",
            "Name: IPv4, dtype: object\n",
            "Language\n",
            "5upgzgbtn4s5kkg3m29v2in2e    2\n",
            "4upgzgbtn4s5kkg3m29v2in2e    1\n",
            "3upgzgbtn4s5kkg3m29v2in2e    1\n",
            "Name: Language, dtype: object\n",
            "NetworkType\n",
            "5upgzgbtn4s5kkg3m29v2in2e    1\n",
            "4upgzgbtn4s5kkg3m29v2in2e    1\n",
            "3upgzgbtn4s5kkg3m29v2in2e    1\n",
            "Name: NetworkType, dtype: object\n",
            "Network\n",
            "5upgzgbtn4s5kkg3m29v2in2e    1\n",
            "4upgzgbtn4s5kkg3m29v2in2e    1\n",
            "3upgzgbtn4s5kkg3m29v2in2e    1\n",
            "Name: Network, dtype: object\n",
            "Manufacturer\n",
            "5upgzgbtn4s5kkg3m29v2in2e    1\n",
            "4upgzgbtn4s5kkg3m29v2in2e    1\n",
            "3upgzgbtn4s5kkg3m29v2in2e    1\n",
            "Name: Manufacturer, dtype: object\n",
            "DataType\n",
            "5upgzgbtn4s5kkg3m29v2in2e    1\n",
            "4upgzgbtn4s5kkg3m29v2in2e    1\n",
            "3upgzgbtn4s5kkg3m29v2in2e    1\n",
            "Name: DataType, dtype: object\n",
            "Hardware\n",
            "5upgzgbtn4s5kkg3m29v2in2e    1\n",
            "4upgzgbtn4s5kkg3m29v2in2e    1\n",
            "3upgzgbtn4s5kkg3m29v2in2e    1\n",
            "Name: Hardware, dtype: object\n",
            "ScreenSize\n",
            "5upgzgbtn4s5kkg3m29v2in2e    1\n",
            "4upgzgbtn4s5kkg3m29v2in2e    1\n",
            "3upgzgbtn4s5kkg3m29v2in2e    1\n",
            "Name: ScreenSize, dtype: object\n",
            "CellInfo\n",
            "5upgzgbtn4s5kkg3m29v2in2e    1\n",
            "4upgzgbtn4s5kkg3m29v2in2e    1\n",
            "3upgzgbtn4s5kkg3m29v2in2e    1\n",
            "Name: CellInfo, dtype: object\n"
          ]
        },
        {
          "output_type": "display_data",
          "data": {
            "application/javascript": [
              "\n",
              "    async function download(id, filename, size) {\n",
              "      if (!google.colab.kernel.accessAllowed) {\n",
              "        return;\n",
              "      }\n",
              "      const div = document.createElement('div');\n",
              "      const label = document.createElement('label');\n",
              "      label.textContent = `Downloading \"${filename}\": `;\n",
              "      div.appendChild(label);\n",
              "      const progress = document.createElement('progress');\n",
              "      progress.max = size;\n",
              "      div.appendChild(progress);\n",
              "      document.body.appendChild(div);\n",
              "\n",
              "      const buffers = [];\n",
              "      let downloaded = 0;\n",
              "\n",
              "      const channel = await google.colab.kernel.comms.open(id);\n",
              "      // Send a message to notify the kernel that we're ready.\n",
              "      channel.send({})\n",
              "\n",
              "      for await (const message of channel.messages) {\n",
              "        // Send a message to notify the kernel that we're ready.\n",
              "        channel.send({})\n",
              "        if (message.buffers) {\n",
              "          for (const buffer of message.buffers) {\n",
              "            buffers.push(buffer);\n",
              "            downloaded += buffer.byteLength;\n",
              "            progress.value = downloaded;\n",
              "          }\n",
              "        }\n",
              "      }\n",
              "      const blob = new Blob(buffers, {type: 'application/binary'});\n",
              "      const a = document.createElement('a');\n",
              "      a.href = window.URL.createObjectURL(blob);\n",
              "      a.download = filename;\n",
              "      div.appendChild(a);\n",
              "      a.click();\n",
              "      div.remove();\n",
              "    }\n",
              "  "
            ],
            "text/plain": [
              "<IPython.core.display.Javascript object>"
            ]
          },
          "metadata": {}
        },
        {
          "output_type": "display_data",
          "data": {
            "application/javascript": [
              "download(\"download_6e00e077-9ac5-413b-81f6-ca875a6385e5\", \"result.pdf\", 170589)"
            ],
            "text/plain": [
              "<IPython.core.display.Javascript object>"
            ]
          },
          "metadata": {}
        },
        {
          "output_type": "display_data",
          "data": {
            "text/plain": [
              "<Figure size 576x396 with 0 Axes>"
            ]
          },
          "metadata": {}
        }
      ]
    },
    {
      "cell_type": "code",
      "source": [
        ""
      ],
      "metadata": {
        "id": "GrmnmpHRC3bi"
      },
      "execution_count": null,
      "outputs": []
    }
  ]
}